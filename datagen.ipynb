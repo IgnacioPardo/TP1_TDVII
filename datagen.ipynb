{
 "cells": [
  {
   "cell_type": "markdown",
   "metadata": {},
   "source": [
    "## Librerias"
   ]
  },
  {
   "cell_type": "code",
   "execution_count": 748,
   "metadata": {},
   "outputs": [],
   "source": [
    "from IPython.display import display, Markdown\n",
    "import pandas as pd\n",
    "import random\n",
    "from datetime import datetime, timedelta\n",
    "from typing import List, Tuple"
   ]
  },
  {
   "cell_type": "code",
   "execution_count": 749,
   "metadata": {},
   "outputs": [
    {
     "name": "stdout",
     "output_type": "stream",
     "text": [
      "Requirement already satisfied: faker in /Users/nacho/opt/anaconda3/envs/coding/lib/python3.8/site-packages (25.1.0)\n",
      "Requirement already satisfied: python-dateutil>=2.4 in /Users/nacho/opt/anaconda3/envs/coding/lib/python3.8/site-packages (from faker) (2.8.2)\n",
      "Requirement already satisfied: six>=1.5 in /Users/nacho/opt/anaconda3/envs/coding/lib/python3.8/site-packages (from python-dateutil>=2.4->faker) (1.16.0)\n",
      "^C\n",
      "\u001b[31mERROR: Operation cancelled by user\u001b[0m\n"
     ]
    }
   ],
   "source": [
    "!pip install faker\n",
    "import faker\n",
    "fake = faker.Faker()"
   ]
  },
  {
   "cell_type": "code",
   "execution_count": null,
   "metadata": {},
   "outputs": [
    {
     "name": "stdout",
     "output_type": "stream",
     "text": [
      "Requirement already satisfied: psycopg2-binary in /Users/nacho/opt/anaconda3/envs/coding/lib/python3.8/site-packages (2.9.9)\n",
      "Requirement already satisfied: sqlalchemy in /Users/nacho/opt/anaconda3/envs/coding/lib/python3.8/site-packages (1.4.41)\n",
      "Requirement already satisfied: greenlet!=0.4.17 in /Users/nacho/opt/anaconda3/envs/coding/lib/python3.8/site-packages (from sqlalchemy) (2.0.1)\n"
     ]
    }
   ],
   "source": [
    "!pip install psycopg2-binary\n",
    "!pip install sqlalchemy\n",
    "from sqlalchemy import create_engine, text\n",
    "from sqlalchemy.orm import sessionmaker"
   ]
  },
  {
   "cell_type": "markdown",
   "metadata": {},
   "source": [
    "## Coneccion a la base de datos"
   ]
  },
  {
   "cell_type": "code",
   "execution_count": null,
   "metadata": {},
   "outputs": [],
   "source": [
    "# Connect to the database and populate with fake data\n",
    "\n",
    "host = \"localhost\"\n",
    "port = 5432\n",
    "user = \"catedra\"\n",
    "password = \"S3cret\"\n",
    "database = \"postgres\"\n",
    "driver = \"postgresql\"\n",
    "\n",
    "pg = create_engine(\"postgresql://{}:{}@{}:{}/{}\".format(user, password, host, port, database))\n",
    "\n",
    "Session = sessionmaker(bind=pg)"
   ]
  },
  {
   "cell_type": "markdown",
   "metadata": {},
   "source": [
    "## Mercadopago.SQL"
   ]
  },
  {
   "cell_type": "markdown",
   "metadata": {},
   "source": [
    "### Correr desde archivo"
   ]
  },
  {
   "cell_type": "code",
   "execution_count": null,
   "metadata": {},
   "outputs": [],
   "source": [
    "# correr mercadopago.sql\n",
    "with open(\"mercadopago.sql\") as f:\n",
    "    sql = f.read()\n",
    "    pg.execute(text(sql))"
   ]
  },
  {
   "cell_type": "markdown",
   "metadata": {},
   "source": [
    "#### Vaciar la base de datos"
   ]
  },
  {
   "cell_type": "code",
   "execution_count": null,
   "metadata": {},
   "outputs": [
    {
     "data": {
      "text/plain": [
       "<sqlalchemy.engine.cursor.LegacyCursorResult at 0x7fa351d12220>"
      ]
     },
     "execution_count": 67,
     "metadata": {},
     "output_type": "execute_result"
    }
   ],
   "source": [
    "delete_all = \"\"\"\n",
    "DROP SCHEMA public CASCADE;\n",
    "CREATE SCHEMA public;\n",
    "GRANT ALL ON SCHEMA public TO public;\n",
    "\"\"\"\n",
    "\n",
    "pg.execute(delete_all)"
   ]
  },
  {
   "cell_type": "markdown",
   "metadata": {},
   "source": [
    "#### Crear Tablas en la base de datos"
   ]
  },
  {
   "cell_type": "code",
   "execution_count": null,
   "metadata": {},
   "outputs": [
    {
     "data": {
      "text/plain": [
       "<sqlalchemy.engine.cursor.LegacyCursorResult at 0x7fa351c895e0>"
      ]
     },
     "execution_count": 68,
     "metadata": {},
     "output_type": "execute_result"
    }
   ],
   "source": [
    "create_tables = \"\"\"\n",
    "CREATE TABLE Clave (\n",
    "    clave_uniforme VARCHAR(50) PRIMARY KEY,\n",
    "    alias VARCHAR(50) NOT NULL,\n",
    "    esVirtual BOOLEAN NOT NULL\n",
    ");\n",
    "\n",
    "CREATE TABLE Usuarios (\n",
    "    clave_uniforme VARCHAR(50) PRIMARY KEY,\n",
    "    CUIT VARCHAR(50),\n",
    "    email VARCHAR(50),\n",
    "    nombre VARCHAR(50),\n",
    "    apellido VARCHAR(50),\n",
    "    username VARCHAR(50),\n",
    "    password VARCHAR(50),\n",
    "    saldo FLOAT,\n",
    "    fecha_alta DATE,\n",
    "    FOREIGN KEY (clave_uniforme) REFERENCES Clave(clave_uniforme)\n",
    ");\n",
    "\n",
    "CREATE TABLE CuentaBancaria (\n",
    "    clave_uniforme VARCHAR(50) PRIMARY KEY,\n",
    "    banco VARCHAR(50),\n",
    "    FOREIGN KEY (clave_uniforme) REFERENCES Clave(clave_uniforme)\n",
    ");\n",
    "\n",
    "CREATE TABLE ProveedorServicio (\n",
    "    clave_uniforme VARCHAR(50) PRIMARY KEY,\n",
    "    nombre_empresa VARCHAR(50),\n",
    "    categoria_servicio VARCHAR(50),\n",
    "    fecha_alta DATE,\n",
    "    FOREIGN KEY (clave_uniforme) REFERENCES Clave(clave_uniforme)\n",
    ");\n",
    "\n",
    "CREATE TABLE Tarjeta (\n",
    "    numero VARCHAR(50) PRIMARY KEY,\n",
    "    vencimiento DATE,\n",
    "    cvv INTEGER,\n",
    "    CU VARCHAR(50),\n",
    "    FOREIGN KEY (CU) REFERENCES Clave(clave_uniforme),\n",
    "    CHECK (CU IS NOT NULL)\n",
    ");\n",
    "\n",
    "-- Add trigger on insert to check if cu is virtual, if not, raise exception\n",
    "\n",
    "CREATE OR REPLACE FUNCTION check_cu_virtual() \n",
    "RETURNS TRIGGER AS $$\n",
    "BEGIN\n",
    "    IF (SELECT esVirtual FROM Clave WHERE clave_uniforme = NEW.CU) = FALSE THEN\n",
    "        RAISE EXCEPTION 'CU is not virtual';\n",
    "    END IF;\n",
    "    RETURN NEW;\n",
    "END;\n",
    "$$ LANGUAGE plpgsql;\n",
    "\n",
    "CREATE TRIGGER check_cu_virtual_trigger\n",
    "BEFORE INSERT ON Tarjeta\n",
    "FOR EACH ROW\n",
    "EXECUTE FUNCTION check_cu_virtual();\n",
    "\n",
    "CREATE TABLE Transaccion (\n",
    "    codigo SERIAL PRIMARY KEY,\n",
    "    CU_Origen VARCHAR(50),\n",
    "    CU_Destino VARCHAR(50),\n",
    "    monto FLOAT,\n",
    "    fecha DATE,\n",
    "    descripcion VARCHAR(50),\n",
    "    estado VARCHAR(50),\n",
    "    es_con_tarjeta BOOLEAN,\n",
    "    numero VARCHAR(50),\n",
    "    interes FLOAT,\n",
    "    FOREIGN KEY (CU_Origen) REFERENCES Clave(clave_uniforme),\n",
    "    FOREIGN KEY (CU_Destino) REFERENCES Clave(clave_uniforme),\n",
    "    FOREIGN KEY (numero) REFERENCES Tarjeta(numero)\n",
    ");\n",
    "\n",
    "-- Create trigger to check if user has enough balance to make transaction without card\n",
    "CREATE OR REPLACE FUNCTION check_balance()\n",
    "RETURNS TRIGGER AS $$\n",
    "BEGIN\n",
    "    IF (SELECT saldo FROM Usuarios WHERE clave_uniforme = NEW.CU_Origen) < NEW.monto THEN\n",
    "        RAISE EXCEPTION 'Not enough balance';\n",
    "    END IF;\n",
    "    RETURN NEW;\n",
    "END;\n",
    "$$ LANGUAGE plpgsql;\n",
    "\n",
    "CREATE TRIGGER check_balance_trigger\n",
    "BEFORE INSERT ON Transaccion\n",
    "FOR EACH ROW\n",
    "WHEN (NEW.es_con_tarjeta = FALSE)\n",
    "EXECUTE FUNCTION check_balance();\n",
    "\n",
    "\n",
    "CREATE TABLE Rendimiento (\n",
    "    id SERIAL PRIMARY KEY,\n",
    "    fecha_pago DATE,\n",
    "    comienzo_plazo DATE,\n",
    "    fin_plazo DATE,\n",
    "    TNA FLOAT,\n",
    "    monto FLOAT\n",
    ");\n",
    "\n",
    "CREATE TABLE RendimientoUsuario (\n",
    "    clave_uniforme VARCHAR(50),\n",
    "    id INTEGER,\n",
    "    PRIMARY KEY (clave_uniforme, id),\n",
    "    FOREIGN KEY (clave_uniforme) REFERENCES Clave(clave_uniforme),\n",
    "    FOREIGN KEY (id) REFERENCES Rendimiento(id)\n",
    ");\n",
    "\n",
    "CREATE TABLE TransaccionTarjeta (\n",
    "    codigo INTEGER,\n",
    "    numero VARCHAR(50),\n",
    "    PRIMARY KEY (codigo, numero),\n",
    "    FOREIGN KEY (numero) REFERENCES Tarjeta(numero),\n",
    "    FOREIGN KEY (codigo) REFERENCES Transaccion(codigo)\n",
    ");\n",
    "\n",
    "\"\"\"\n",
    "\n",
    "pg.execute(create_tables)"
   ]
  },
  {
   "cell_type": "markdown",
   "metadata": {},
   "source": [
    "## Crear datos de prueba"
   ]
  },
  {
   "cell_type": "markdown",
   "metadata": {},
   "source": [
    "### Crear identificadores - DNI, CUIT, CVU/CBU, ALIAS"
   ]
  },
  {
   "cell_type": "code",
   "execution_count": 1098,
   "metadata": {},
   "outputs": [
    {
     "data": {
      "text/plain": [
       "'04390410921721037937345'"
      ]
     },
     "metadata": {},
     "output_type": "display_data"
    },
    {
     "data": {
      "text/plain": [
       "'professor.mind.term'"
      ]
     },
     "metadata": {},
     "output_type": "display_data"
    },
    {
     "data": {
      "text/plain": [
       "'17-41113552-3'"
      ]
     },
     "metadata": {},
     "output_type": "display_data"
    }
   ],
   "source": [
    "def random_dni():\n",
    "    return str(random.randint(10**7, 10**8 - 1))\n",
    "\n",
    "\n",
    "def random_cuit():\n",
    "    return (\n",
    "        str(random.randint(10, 99))\n",
    "        + \"-\"\n",
    "        + random_dni()\n",
    "        + \"-\"\n",
    "        + str(random.randint(0, 9))\n",
    "    )\n",
    "\n",
    "\n",
    "def random_cu():\n",
    "    return (\n",
    "        \"0\"\n",
    "        + str(random.randint(0, 999))\n",
    "        + \"0\"\n",
    "        + str(random.randint(0, 9999))\n",
    "        + str(random.randint(0, 9))\n",
    "        + str(random.randint(10**12, 10**13 - 1))\n",
    "    )\n",
    "\n",
    "\n",
    "def random_alias():\n",
    "    return \".\".join(fake.words(nb=3))\n",
    "\n",
    "\n",
    "cu = random_cu()\n",
    "alias = random_alias()\n",
    "cuit = random_cuit()\n",
    "\n",
    "display(cu, alias, cuit)\n"
   ]
  },
  {
   "cell_type": "markdown",
   "metadata": {},
   "source": [
    "### Crear usuarios de prueba"
   ]
  },
  {
   "cell_type": "code",
   "execution_count": 1099,
   "metadata": {},
   "outputs": [
    {
     "data": {
      "text/markdown": [
       "\n",
       "# Usuarios\n",
       "- Barbara Thomas - austinsmith@example.org - stephaniehogan - $dWs0TP12y | 38-17724867-2 - 01800815411454799198944 - strong.rate.take\n",
       "- Brandon Simmons - andersonholly@example.net - diazmatthew - V)6R#ddE&! | 41-57496073-0 - 04190182422751276284708 - another.quickly.administration\n",
       "\n",
       "# Proveedores de Servicio\n",
       "- bed.by.production - 06000927979224297220437\n",
       "\n",
       "# Cuentas Bancarias\n",
       "- back.large.politics - 09900382787940710365443\n"
      ],
      "text/plain": [
       "<IPython.core.display.Markdown object>"
      ]
     },
     "metadata": {},
     "output_type": "display_data"
    }
   ],
   "source": [
    "def insert_clave_uniforme(\n",
    "        cu: str,\n",
    "        alias: str,\n",
    "        esVirtual: bool\n",
    "    ) -> None:\n",
    "    \"\"\"Inserta una clave uniforme en la base de datos\n",
    "\n",
    "    Args:\n",
    "        cu (str): Clave Uniforme\n",
    "        alias (str): Alias\n",
    "        esVirtual (bool): Es virtual o no\n",
    "    \"\"\"\n",
    "\n",
    "    pg.execute(\"INSERT INTO Clave VALUES (%s, %s, %s)\", (cu, alias, esVirtual))\n",
    "\n",
    "\n",
    "def create_identifiers() -> Tuple[str, str, str]:\n",
    "    \"\"\"Crea identificadores aleatorios\n",
    "\n",
    "    Returns:\n",
    "        Tuple[str, str, str]: CU, Alias, CUIT\n",
    "    \"\"\"\n",
    "\n",
    "    cu = random_cu()\n",
    "    alias = random_alias()\n",
    "    cuit = random_cuit()\n",
    "\n",
    "    return cu, alias, cuit\n",
    "\n",
    "\n",
    "def create_usuario() -> Tuple[str, str, str, str, str, str, str, str]:\n",
    "    \"\"\"Crea un usuario aleatorio\n",
    "\n",
    "    Returns:\n",
    "        Tuple[str, str, str, str, str, str, str, str]: CVU, Alias, CUIT, Email, Nombre, Apellido, Username, Password\n",
    "    \"\"\"\n",
    "\n",
    "    cvu, alias, cuit = create_identifiers()\n",
    "    insert_clave_uniforme(cvu, alias, True)\n",
    "    pg.execute(\n",
    "        \"INSERT INTO Usuarios VALUES (%s, %s, %s, %s, %s, %s, %s, %s, %s)\",\n",
    "        (\n",
    "            cvu,\n",
    "            cuit,\n",
    "            (email := fake.email()),\n",
    "            (first_name := fake.first_name()),\n",
    "            (last_name := fake.last_name()),\n",
    "            (user_name := fake.user_name()),\n",
    "            (password := fake.password()),\n",
    "            0,\n",
    "            fake.date_this_century(),\n",
    "        ),\n",
    "    )\n",
    "    return cvu, alias, cuit, email, first_name, last_name, user_name, password\n",
    "\n",
    "\n",
    "def create_cuenta_bancaria() -> Tuple[str, str]:\n",
    "    \"\"\"Crea una cuenta bancaria aleatoria\n",
    "\n",
    "    Returns:\n",
    "        Tuple[str, str]: CU, Alias\n",
    "    \"\"\"\n",
    "    cvu, alias, _ = create_identifiers()\n",
    "    insert_clave_uniforme(cvu, alias, False)\n",
    "    pg.execute(\"INSERT INTO CuentaBancaria VALUES (%s, %s)\", (cvu, fake.company()))\n",
    "    return cvu, alias\n",
    "\n",
    "\n",
    "def create_proveedor_servicio() -> Tuple[str, str]:\n",
    "    \"\"\"Crea un proveedor de servicio aleatorio\n",
    "\n",
    "    Returns:\n",
    "        Tuple[str, str]: CU, Alias\n",
    "    \"\"\"\n",
    "    cvu, alias, _ = create_identifiers()\n",
    "    insert_clave_uniforme(cvu, alias, False)\n",
    "    pg.execute(\n",
    "        \"INSERT INTO ProveedorServicio VALUES (%s, %s, %s, %s)\",\n",
    "        (cvu, fake.company(), fake.word(), fake.date_this_century()),\n",
    "    )\n",
    "    return cvu, alias\n",
    "\n",
    "\n",
    "def add_tarjeta(\n",
    "        cvu : str,\n",
    "        number : str,\n",
    "        cvv : str,\n",
    "        vencimiento : str\n",
    "    ):\n",
    "    \"\"\"Agrega una tarjeta a la base de datos\n",
    "\n",
    "    Args:\n",
    "        cvu (str): CVU del usuario al que pertenece la tarjeta\n",
    "        number (str): Número de tarjeta\n",
    "        cvv (str): CVV\n",
    "        vencimiento (str): Fecha de vencimiento\n",
    "    \"\"\"\n",
    "\n",
    "    pg.execute(\n",
    "        \"INSERT INTO Tarjeta VALUES (%s, %s, %s, %s)\", (number, vencimiento, cvv, cvu)\n",
    "    )\n",
    "\n",
    "\n",
    "def create_tarjeta(cvu : str) -> Tuple[str, str, str]:\n",
    "    \"\"\"Crea una tarjeta aleatoria\n",
    "\n",
    "    Args:\n",
    "        cvu (str): CVU del usuario al que pertenece la tarjeta\n",
    "\n",
    "    Returns:\n",
    "        Tuple[str, str, str]: Número, CVV, Vencimiento\n",
    "    \"\"\"\n",
    "    \n",
    "    add_tarjeta(\n",
    "        cvu,\n",
    "        (num := fake.credit_card_number()),\n",
    "        (cvv := fake.credit_card_security_code()),\n",
    "        (vencimiento := str(fake.date_between(start_date=\"-1y\", end_date=\"+1y\"))),\n",
    "    )\n",
    "    return num, cvv, vencimiento\n",
    "\n",
    "\n",
    "cvu1, alias1, cuit1, email1, first_name1, last_name1, user_name1, password1 = create_usuario()\n",
    "cvu2, alias2, cuit2, email2, first_name2, last_name2, user_name2, password2 = create_usuario()\n",
    "\n",
    "cvu_serv1, alias_serv1 = create_proveedor_servicio()\n",
    "cvu_cuenta1, alias_cuenta1 = create_cuenta_bancaria()\n",
    "\n",
    "display(\n",
    "    Markdown(\n",
    "        f\"\"\"\n",
    "# Usuarios\n",
    "- {first_name1} {last_name1} - {email1} - {user_name1} - {password1} | {cuit1} - {cvu1} - {alias1}\n",
    "- {first_name2} {last_name2} - {email2} - {user_name2} - {password2} | {cuit2} - {cvu2} - {alias2}\n",
    "\n",
    "# Proveedores de Servicio\n",
    "- {alias_serv1} - {cvu_serv1}\n",
    "\n",
    "# Cuentas Bancarias\n",
    "- {alias_cuenta1} - {cvu_cuenta1}\n",
    "\"\"\"\n",
    "    )\n",
    "\n",
    ")"
   ]
  },
  {
   "cell_type": "code",
   "execution_count": 1100,
   "metadata": {},
   "outputs": [
    {
     "data": {
      "text/plain": [
       "('3502672493399201', '570', '2025-01-08')"
      ]
     },
     "execution_count": 1100,
     "metadata": {},
     "output_type": "execute_result"
    }
   ],
   "source": [
    "num_tar1, cvv_tar1, venc_tar1 = create_tarjeta(cvu1)\n",
    "num_tar1, cvv_tar1, venc_tar1"
   ]
  },
  {
   "cell_type": "markdown",
   "metadata": {},
   "source": [
    "### Probar hacer una transacción entre 2 usuarios uno sin saldo"
   ]
  },
  {
   "cell_type": "code",
   "execution_count": 1101,
   "metadata": {},
   "outputs": [
    {
     "data": {
      "text/markdown": [
       "## Not enough balance"
      ],
      "text/plain": [
       "<IPython.core.display.Markdown object>"
      ]
     },
     "metadata": {},
     "output_type": "display_data"
    }
   ],
   "source": [
    "# Try to insert a transaction without enough balance\n",
    "\n",
    "try:\n",
    "    pg.execute(\n",
    "        \"\"\"INSERT INTO Transaccion (CU_Origen, CU_Destino, monto, fecha, descripcion, estado, es_con_tarjeta, numero, interes)\n",
    "            VALUES (%s, %s, %s, %s, %s, %s, %s, %s, %s)\"\"\",\n",
    "        (\n",
    "            cvu1,\n",
    "            cvu2,\n",
    "            100,\n",
    "            fake.date_this_century(),\n",
    "            \"Transferencia\",\n",
    "            \"Pendiente\",\n",
    "            False,\n",
    "            None,\n",
    "            0,\n",
    "        ),\n",
    "    )\n",
    "    \n",
    "except Exception as e:\n",
    "    if \"Not enough balance\" in str(e):\n",
    "        display(Markdown(\"## Not enough balance\"))"
   ]
  },
  {
   "cell_type": "markdown",
   "metadata": {},
   "source": [
    "### Función para hacer la transacción debitada de un usuario"
   ]
  },
  {
   "cell_type": "code",
   "execution_count": 1102,
   "metadata": {},
   "outputs": [
    {
     "name": "stderr",
     "output_type": "stream",
     "text": [
      "<>:39: SyntaxWarning: \"is\" with a literal. Did you mean \"==\"?\n",
      "<>:44: SyntaxWarning: \"is\" with a literal. Did you mean \"==\"?\n",
      "<>:39: SyntaxWarning: \"is\" with a literal. Did you mean \"==\"?\n",
      "<>:44: SyntaxWarning: \"is\" with a literal. Did you mean \"==\"?\n",
      "/var/folders/5j/7b3w3dw95qdcll87vxc3yn300000gn/T/ipykernel_911/2075508739.py:39: SyntaxWarning: \"is\" with a literal. Did you mean \"==\"?\n",
      "  if (sender_alias != \"\" and sender_cu is \"\"):\n",
      "/var/folders/5j/7b3w3dw95qdcll87vxc3yn300000gn/T/ipykernel_911/2075508739.py:44: SyntaxWarning: \"is\" with a literal. Did you mean \"==\"?\n",
      "  if (reciever_alias != \"\" and reciever_cu is \"\"):\n"
     ]
    },
    {
     "data": {
      "text/markdown": [
       "## Not enough balance"
      ],
      "text/plain": [
       "<IPython.core.display.Markdown object>"
      ]
     },
     "metadata": {},
     "output_type": "display_data"
    }
   ],
   "source": [
    "def create_transaccion_debit_between_users(\n",
    "        amount : float,\n",
    "        description : str,\n",
    "        sender_cu : str = \"\",\n",
    "        reciever_cu : str = \"\",\n",
    "        sender_alias : str = \"\",\n",
    "        reciever_alias : str = \"\",\n",
    "    ) -> int:\n",
    "    \"\"\"Debita una cantidad de dinero de un usuario y la transfiere a otro\n",
    "\n",
    "    Args:\n",
    "        sender (str): CVU del usuario que envía el dinero\n",
    "        reciever (str): CVU del usuario que recibe el dinero\n",
    "        amount (float): Cantidad de dinero\n",
    "        description (str): Descripción de la transacción\n",
    "\n",
    "    Returns:\n",
    "        int: Código de la transacción\n",
    "    \"\"\"\n",
    "\n",
    "    # Check for balance first\n",
    "    if pg.execute(\"SELECT saldo FROM Usuarios WHERE clave_uniforme = %s\", (sender_cu,)).fetchone()[0] < amount:\n",
    "        raise Exception(\"Not enough balance\")\n",
    "\n",
    "    if not (sender_cu or sender_alias):\n",
    "        raise Exception(\"Invalid Sender - No CU or Alias\")\n",
    "    \n",
    "    if not (reciever_cu or reciever_alias):\n",
    "        raise Exception(\"Invalid Reciever - No CU or Alias\")\n",
    "\n",
    "    if (sender_cu != \"\"):\n",
    "        # Check if sender exists\n",
    "        if not pg.execute(\"SELECT clave_uniforme FROM Usuarios WHERE clave_uniforme = %s\", (sender_cu,)).fetchone():\n",
    "            raise Exception(\"Invalid Sender - Not Found\")\n",
    "        # Check if the sender is virtual\n",
    "        if not pg.execute(\"SELECT esVirtual FROM Clave WHERE clave_uniforme = %s\", (sender_cu,)).fetchone()[0]:\n",
    "            raise Exception(\"Invalid Sender - Not Virtual\")\n",
    "\n",
    "    if (sender_alias != \"\" and sender_cu is \"\"):\n",
    "        sender_cu = pg.execute(\"SELECT clave_uniforme FROM Clave WHERE alias = %s\", (sender_alias,)).fetchone()[0]\n",
    "        if not sender_cu:\n",
    "            raise Exception(\"Invalid Sender - Alias not found\")\n",
    "    \n",
    "    if (reciever_alias != \"\" and reciever_cu is \"\"):\n",
    "        reciever_cu = pg.execute(\"SELECT clave_uniforme FROM Clave WHERE alias = %s\", (reciever_alias,)).fetchone()[0]\n",
    "        if not reciever_cu:\n",
    "            raise Exception(\"Invalid Reciever - Alias not found\")\n",
    "\n",
    "    pg.execute(\n",
    "        \"\"\"INSERT INTO Transaccion (CU_Origen, CU_Destino, monto, fecha, descripcion, estado, es_con_tarjeta, numero, interes)\n",
    "        VALUES (%s, %s, %s, %s, %s, %s, %s, %s, %s)\"\"\",\n",
    "        (\n",
    "            sender_cu,\n",
    "            reciever_cu,\n",
    "            amount,\n",
    "            datetime.now(),\n",
    "            description,\n",
    "            fake.word(),\n",
    "            False,\n",
    "            None,\n",
    "            None,\n",
    "        ),\n",
    "    )\n",
    "\n",
    "    # El siguiente código se ejecuta directamente como un trigger en la base de datos\n",
    "\n",
    "    # pg.execute(\n",
    "    #     \"UPDATE Usuarios SET saldo = saldo - %s WHERE clave_uniforme = %s\",\n",
    "    #     (amount, sender),\n",
    "    # )\n",
    "\n",
    "    # pg.execute(\n",
    "    #     \"UPDATE Usuarios SET saldo = saldo + %s WHERE clave_uniforme = %s\",\n",
    "    #     (amount, reciever),\n",
    "    # )\n",
    "\n",
    "    return pg.execute(\"SELECT codigo FROM Transaccion ORDER BY codigo DESC LIMIT 1\").fetchone()[0]\n",
    "\n",
    "# Try again to insert a transaction without enough balance\n",
    "\n",
    "try:\n",
    "    create_transaccion_debit_between_users(100, \"Transferencia\", sender_cu=cvu1, reciever_cu=cvu2)\n",
    "except Exception as e:\n",
    "    if \"Not enough balance\" in str(e):\n",
    "        display(Markdown(\"## Not enough balance\"))"
   ]
  },
  {
   "cell_type": "markdown",
   "metadata": {},
   "source": [
    "### Depositar dinero en una cuenta desde una cuenta de bancaria"
   ]
  },
  {
   "cell_type": "code",
   "execution_count": 1103,
   "metadata": {},
   "outputs": [],
   "source": [
    "def create_transaccion_deposit(\n",
    "    user: str, cbu_cuenta_bancaria: str, amount: float, description: str\n",
    ") -> Tuple[str, float]:\n",
    "    \"\"\"Deposita dinero en la cuenta de un usuario\n",
    "\n",
    "    Args:\n",
    "        user (str): CVU del usuario\n",
    "        amount (float): Cantidad de dinero\n",
    "        description (str): Descripción de la transacción\n",
    "\n",
    "    Returns:\n",
    "        Tuple[str, float]: Código de la transacción, Saldo final\n",
    "    \"\"\"\n",
    "\n",
    "    pg.execute(\n",
    "        \"\"\"INSERT INTO Transaccion (CU_Origen, CU_Destino, monto, fecha, descripcion, estado, es_con_tarjeta, numero, interes)\n",
    "        VALUES (%s, %s, %s, %s, %s, %s, %s, %s, %s)\"\"\",\n",
    "        (\n",
    "            cbu_cuenta_bancaria,\n",
    "            user,\n",
    "            amount,\n",
    "            fake.date_this_century(),\n",
    "            description,\n",
    "            fake.word(),\n",
    "            False,\n",
    "            None,\n",
    "            None,\n",
    "        ),\n",
    "    )\n",
    "\n",
    "    # El siguiente código se ejecuta directamente como un trigger en la base de datos\n",
    "    \n",
    "    # pg.execute(\n",
    "    #     \"UPDATE Usuarios SET saldo = saldo + %s WHERE clave_uniforme = %s\",\n",
    "    #     (amount, user),\n",
    "    # )\n",
    "\n",
    "    return (\n",
    "        str(\n",
    "            pg.execute(\n",
    "                \"SELECT codigo FROM Transaccion ORDER BY codigo DESC LIMIT 1\"\n",
    "            ).fetchone()[0]\n",
    "        ),\n",
    "        float(\n",
    "            pg.execute(\n",
    "                \"SELECT saldo FROM Usuarios WHERE clave_uniforme = %s\", (user,)\n",
    "            ).fetchone()[0]\n",
    "        ),\n",
    "    )\n"
   ]
  },
  {
   "cell_type": "code",
   "execution_count": 1104,
   "metadata": {},
   "outputs": [
    {
     "data": {
      "text/markdown": [
       "## Transacción de depósito\n",
       "- Código: 2\n",
       "- Saldo final: 1000.0"
      ],
      "text/plain": [
       "<IPython.core.display.Markdown object>"
      ]
     },
     "metadata": {},
     "output_type": "display_data"
    }
   ],
   "source": [
    "codigo_transaccion, saldo_final = create_transaccion_deposit(\n",
    "    cvu1, cvu_cuenta1, 1000, \"Depósito\"\n",
    ")\n",
    "\n",
    "display(\n",
    "    Markdown(\n",
    "        f\"## Transacción de depósito\\n- Código: {codigo_transaccion}\\n- Saldo final: {saldo_final}\"\n",
    "    )\n",
    ")"
   ]
  },
  {
   "cell_type": "markdown",
   "metadata": {},
   "source": [
    "### Transferir dinero entre dos cuentas ahora si con saldo"
   ]
  },
  {
   "cell_type": "code",
   "execution_count": 1105,
   "metadata": {},
   "outputs": [
    {
     "data": {
      "text/markdown": [
       "## Transacción de transferencia\n",
       "- Código: 3"
      ],
      "text/plain": [
       "<IPython.core.display.Markdown object>"
      ]
     },
     "metadata": {},
     "output_type": "display_data"
    },
    {
     "data": {
      "text/plain": [
       "(3, '01800815411454799198944', '04190182422751276284708', 100.0, datetime.date(2024, 5, 10), 'Transferencia', 'everyone', False, None, None)"
      ]
     },
     "execution_count": 1105,
     "metadata": {},
     "output_type": "execute_result"
    }
   ],
   "source": [
    "# Transfer money from user 1 to user 2 now that user 1 has enough balance\n",
    "\n",
    "codigo_transaccion = create_transaccion_debit_between_users(\n",
    "    100, \"Transferencia\", sender_cu=cvu1, reciever_cu=cvu2\n",
    ")\n",
    "\n",
    "display(Markdown(f\"## Transacción de transferencia\\n- Código: {codigo_transaccion}\"))\n",
    "\n",
    "# Buscar transacciones y mostrar\n",
    "\n",
    "pg.execute(\"SELECT * FROM Transaccion WHERE codigo = %s\", (codigo_transaccion,)).fetchone()"
   ]
  },
  {
   "cell_type": "code",
   "execution_count": 1106,
   "metadata": {},
   "outputs": [
    {
     "data": {
      "text/markdown": [
       "## Nombres de servicios\n",
       "- Taylor LLC"
      ],
      "text/plain": [
       "<IPython.core.display.Markdown object>"
      ]
     },
     "metadata": {},
     "output_type": "display_data"
    },
    {
     "data": {
      "text/markdown": [
       "## Nombre de servicio aleatorio\n",
       "- Taylor LLC"
      ],
      "text/plain": [
       "<IPython.core.display.Markdown object>"
      ]
     },
     "metadata": {},
     "output_type": "display_data"
    }
   ],
   "source": [
    "# Listar nombres de Servicios\n",
    "\n",
    "nombres = pg.execute(\"SELECT nombre_empresa FROM ProveedorServicio\").fetchall()\n",
    "\n",
    "display(Markdown(f\"## Nombres de servicios\\n- {', '.join([n[0] for n in nombres])}\"))\n",
    "\n",
    "sample_nombre = random.choice(nombres)[0]\n",
    "\n",
    "display(Markdown(f\"## Nombre de servicio aleatorio\\n- {sample_nombre}\"))"
   ]
  },
  {
   "cell_type": "code",
   "execution_count": 1107,
   "metadata": {},
   "outputs": [
    {
     "data": {
      "text/plain": [
       "('4', 700.0)"
      ]
     },
     "execution_count": 1107,
     "metadata": {},
     "output_type": "execute_result"
    }
   ],
   "source": [
    "# Pagar un servicio\n",
    "\n",
    "def create_transaccion_pay_service(\n",
    "    user: str, service_name: str, amount: float, description: str\n",
    ") -> Tuple[str, float]:\n",
    "    \"\"\"Paga un servicio\n",
    "\n",
    "    Args:\n",
    "        user (str): CVU del usuario\n",
    "        service_name (str): Nombre del servicio\n",
    "        amount (float): Cantidad de dinero\n",
    "        description (str): Descripción de la transacción\n",
    "    \n",
    "    Returns:\n",
    "        Tuple[str, float]: Código de la transacción, Saldo final\n",
    "    \"\"\"\n",
    "\n",
    "    # Check for balance first\n",
    "    if pg.execute(\"SELECT saldo FROM Usuarios WHERE clave_uniforme = %s\", (user,)).fetchone()[0] < amount:\n",
    "        raise Exception(\"Not enough balance\")\n",
    "\n",
    "    # Hallar el cbu del servicio por su nombre\n",
    "    cbu_servicio = pg.execute(\n",
    "        \"SELECT clave_uniforme FROM ProveedorServicio WHERE nombre_empresa = %s\",\n",
    "        (service_name,),\n",
    "    ).fetchone()[0]\n",
    "\n",
    "    pg.execute(\n",
    "        \"\"\"INSERT INTO Transaccion (CU_Origen, CU_Destino, monto, fecha, descripcion, estado, es_con_tarjeta, numero, interes)\n",
    "        VALUES (%s, %s, %s, %s, %s, %s, %s, %s, %s)\"\"\",\n",
    "        (\n",
    "            user,\n",
    "            cbu_servicio,\n",
    "            amount,\n",
    "            fake.date_this_century(),\n",
    "            description,\n",
    "            fake.word(),\n",
    "            False,\n",
    "            None,\n",
    "            None,\n",
    "        ),\n",
    "    )\n",
    "\n",
    "    pg.execute(\n",
    "        \"UPDATE Usuarios SET saldo = saldo - %s WHERE clave_uniforme = %s\",\n",
    "        (amount, user),\n",
    "    )\n",
    "\n",
    "    return (\n",
    "        str(\n",
    "            pg.execute(\n",
    "                \"SELECT codigo FROM Transaccion ORDER BY codigo DESC LIMIT 1\"\n",
    "            ).fetchone()[0]\n",
    "        ),\n",
    "        float(\n",
    "            pg.execute(\n",
    "                \"SELECT saldo FROM Usuarios WHERE clave_uniforme = %s\", (user,)\n",
    "            ).fetchone()[0]\n",
    "        ),\n",
    "    )\n",
    "\n",
    "create_transaccion_pay_service(cvu1, sample_nombre, 100, \"Pago de servicio\")"
   ]
  },
  {
   "cell_type": "code",
   "execution_count": 1108,
   "metadata": {},
   "outputs": [],
   "source": [
    "# Invertir plata en la fecha y generar rendimientos a futuro\n",
    "\n",
    "\n",
    "def comenzar_inversion(\n",
    "    cvu : str,\n",
    "):  \n",
    "    \"\"\"\n",
    "    CREATE TABLE Rendimiento (\n",
    "        id SERIAL PRIMARY KEY,\n",
    "        fecha_pago DATE,\n",
    "        comienzo_plazo DATE NOT NULL,\n",
    "        fin_plazo DATE,\n",
    "        TNA FLOAT,\n",
    "        monto FLOAT\n",
    "    );\n",
    "    \"\"\"\n",
    "    # Se pone a invertir el monto total del usuario\n",
    "    # La fecha del comienzo del plazo es ahora,\n",
    "    # El fin del plazo es en 1 dia\n",
    "    # La fecha de pago es el próximo dia hábil\n",
    "    # La tna es entre 60 y 80\n",
    "    # El monto es el saldo del usuario\n",
    "\n",
    "    # Solo se puede tener un rendimiento en un comienzo de plazo dado\n",
    "    # Si ya hay un rendimiento activo y se va a generar otro, se debe finalizar el anterior\n",
    "\n",
    "    # Hallar el saldo del usuario\n",
    "    saldo = pg.execute(\n",
    "        \"SELECT saldo FROM Usuarios WHERE clave_uniforme = %s\", (cvu,)\n",
    "    ).fetchone()[0]\n",
    "\n",
    "    # Hallar si hay un rendimiento activo\n",
    "    rendimiento_activo = pg.execute(\n",
    "        \"SELECT * FROM Rendimiento WHERE comienzo_plazo = CURRENT_DATE\"\n",
    "    ).fetchone()\n",
    "\n",
    "    if rendimiento_activo:\n",
    "        # Finalizar el rendimiento activo\n",
    "        pg.execute(\n",
    "            \"UPDATE Rendimiento SET fin_plazo = CURRENT_DATE WHERE id = %s\",\n",
    "            (rendimiento_activo[0],),\n",
    "        )\n",
    "\n",
    "    # Generar un nuevo rendimiento\n",
    "    tna = random.uniform(60, 80)\n",
    "    monto = saldo\n",
    "    fin_plazo = datetime.now() + timedelta(days=1)\n",
    "    \n",
    "    pg.execute(\n",
    "        \"\"\"INSERT INTO Rendimiento (comienzo_plazo, fin_plazo, TNA, monto)\n",
    "        VALUES (%s, %s, %s, %s)\"\"\",\n",
    "        (\n",
    "            datetime.now(),\n",
    "            fin_plazo,\n",
    "            tna,\n",
    "            monto,\n",
    "        ),\n",
    "    )\n",
    "\n",
    "    # Asociar el rendimiento al usuario\n",
    "    rendimiento_id = pg.execute(\n",
    "        \"SELECT id FROM Rendimiento ORDER BY id DESC LIMIT 1\"\n",
    "    ).fetchone()[0]\n",
    "\n",
    "    pg.execute(\n",
    "        \"INSERT INTO RendimientoUsuario VALUES (%s, %s)\",\n",
    "        (cvu, rendimiento_id),\n",
    "    )\n",
    "\n",
    "    return rendimiento_id\n",
    "\n",
    "def pagar_rendimientos_activos_usuario(\n",
    "    cvu : str\n",
    ") -> List:\n",
    "    \"\"\"\n",
    "    Paga los rendimientos de un usuario\n",
    "\n",
    "    Args:\n",
    "        cvu (str): Clave uniforme del usuario\n",
    "\n",
    "    Returns:\n",
    "        List: Lista de los montos pagados\n",
    "    \"\"\"\n",
    "\n",
    "    # Hallar los rendimientos no pagados del usuario, es decir sin fecha de pago\n",
    "    # JOIN con Rendimiento para hallar los datos del rendimiento\n",
    "\n",
    "    rendimientos = pg.execute(\n",
    "        \"\"\"SELECT Rendimiento.id, fecha_pago, comienzo_plazo, fin_plazo, TNA, monto\n",
    "        FROM RendimientoUsuario\n",
    "        JOIN Rendimiento ON RendimientoUsuario.id = Rendimiento.id\n",
    "        WHERE clave_uniforme = %s AND pago IS FALSE\"\"\",\n",
    "        (cvu,),\n",
    "    ).fetchall()\n",
    "    print(len(rendimientos))\n",
    "\n",
    "    for rendimiento in rendimientos:\n",
    "        # Pagar el rendimiento\n",
    "        updated = pg.execute(\n",
    "            \"\"\"\n",
    "            UPDATE Rendimiento \n",
    "            SET fecha_pago = CURRENT_DATE WHERE id = %s\n",
    "            RETURNING id, fecha_pago, comienzo_plazo, fin_plazo, TNA, monto\n",
    "            \"\"\",\n",
    "            (rendimiento[0],),\n",
    "        ).fetchone()\n",
    "        print(updated)\n",
    "\n",
    "        # Añadir el rendimiento generado al saldo del usuario\n",
    "        # El rendimiento es el monto * (1 + TNA / 100) * (fin_plazo - comienzo_plazo) / 365\n",
    "\n",
    "        # rendimiento_generado = rendimiento[5] * (1 + rendimiento[4] / 100) * (rendimiento[3] - rendimiento[2]).days / 365\n",
    "        rendimiento_generado = rendimiento[5]\n",
    "        rendimiento_generado *= 1 + rendimiento[4] / 100\n",
    "        rendimiento_generado *= (rendimiento[3] - rendimiento[2]).days / 365\n",
    "\n",
    "        pg.execute(\n",
    "            \"UPDATE Usuarios SET saldo = saldo + %s WHERE clave_uniforme = %s\",\n",
    "            (rendimiento_generado, cvu),  \n",
    "        )\n",
    "\n",
    "    if not rendimientos:\n",
    "        return []\n",
    "\n",
    "    # Refetch los rendimientos para mostrar by r[0] for r in rendimientos\n",
    "    updated_rendimientos = pg.execute(\n",
    "        \"\"\"SELECT Rendimiento.id, fecha_pago, comienzo_plazo, fin_plazo, TNA, monto\n",
    "        FROM RendimientoUsuario\n",
    "        JOIN Rendimiento ON RendimientoUsuario.id = Rendimiento.id\n",
    "        WHERE clave_uniforme = %s AND Rendimiento.id IN %s\"\"\",\n",
    "        (cvu, tuple([r[0] for r in rendimientos])),\n",
    "    ).fetchall()\n",
    "\n",
    "    return updated_rendimientos"
   ]
  },
  {
   "cell_type": "code",
   "execution_count": 1109,
   "metadata": {},
   "outputs": [
    {
     "data": {
      "text/markdown": [
       "## Rendimiento comenzado\n",
       "- ID: 1"
      ],
      "text/plain": [
       "<IPython.core.display.Markdown object>"
      ]
     },
     "metadata": {},
     "output_type": "display_data"
    },
    {
     "name": "stdout",
     "output_type": "stream",
     "text": [
      "1\n",
      "(1, datetime.date(2024, 5, 10), datetime.date(2024, 5, 10), datetime.date(2024, 5, 11), 79.77730186659493, 700.0)\n"
     ]
    },
    {
     "data": {
      "text/markdown": [
       "## Rendimientos pagados\n",
       "- ID: 1\n",
       "- Fecha de pago: 2024-05-10\n",
       "- Comienzo del plazo: 2024-05-10\n",
       "- Fin del plazo: 2024-05-11\n",
       "- TNA: 79.77730186659493\n",
       "- Monto Invertido: 700.0\n",
       "- Monto Pagado: 3.447783871414149\n"
      ],
      "text/plain": [
       "<IPython.core.display.Markdown object>"
      ]
     },
     "metadata": {},
     "output_type": "display_data"
    }
   ],
   "source": [
    "rendimiento_id = comenzar_inversion(cvu1)\n",
    "\n",
    "display(Markdown(f\"## Rendimiento comenzado\\n- ID: {rendimiento_id}\"))\n",
    "\n",
    "rendimientos = pagar_rendimientos_activos_usuario(cvu1)\n",
    "\n",
    "display(\n",
    "    Markdown(\"## Rendimientos pagados\" + \"\\n\".join([f\"\"\"\n",
    "- ID: {r[0]}\n",
    "- Fecha de pago: {r[1]}\n",
    "- Comienzo del plazo: {r[2]}\n",
    "- Fin del plazo: {r[3]}\n",
    "- TNA: {r[4]}\n",
    "- Monto Invertido: {r[5]}\n",
    "- Monto Pagado: {r[5] * (1 + r[4] / 100) * (r[3] - r[2]).days / 365}\n",
    "\"\"\" for r in rendimientos])\n",
    "    )\n",
    ")"
   ]
  },
  {
   "cell_type": "code",
   "execution_count": 1110,
   "metadata": {},
   "outputs": [
    {
     "data": {
      "text/plain": [
       "0.0"
      ]
     },
     "metadata": {},
     "output_type": "display_data"
    },
    {
     "data": {
      "text/plain": [
       "1000.0"
      ]
     },
     "metadata": {},
     "output_type": "display_data"
    },
    {
     "data": {
      "text/plain": [
       "[(2, None, datetime.date(2024, 5, 10), datetime.date(2024, 5, 11), 78.05212666518727, 1000.0)]"
      ]
     },
     "metadata": {},
     "output_type": "display_data"
    }
   ],
   "source": [
    "# Crear un nuevo usuario 3\n",
    "# depositar 1000,\n",
    "# comenzar un rendimiento\n",
    "# interrumpirlo transfiriendole 500 al usuario 1 (Agregar un trigger para que cuando se cree una transacción, si el usuario tiene un rendimiento activo, se finalice y se cree uno nuevo con el monto restante pero que no se pague)\n",
    "# continuar el rendimiento y pagar los rendimientos\n",
    "\n",
    "# TLDR; Hacer una transferencia con un rendimiento activo y ver que pasa\n",
    "\n",
    "\n",
    "cvu3, alias3, cuit3, email3, first_name3, last_name3, user_name3, password3 = create_usuario()\n",
    "\n",
    "# Mostrar saldo cvu3\n",
    "display(pg.execute(\"SELECT saldo FROM Usuarios WHERE clave_uniforme = %s\", (cvu3,)).fetchone()[0])\n",
    "\n",
    "create_transaccion_deposit(cvu3, cvu_cuenta1, 1000, \"Depósito\")\n",
    "\n",
    "# Mostrar saldo cvu3 después del depósito\n",
    "display(pg.execute(\"SELECT saldo FROM Usuarios WHERE clave_uniforme = %s\", (cvu3,)).fetchone()[0])\n",
    "\n",
    "rendimiento_id = comenzar_inversion(cvu3)\n",
    "\n",
    "display(\n",
    "    pg.execute(\n",
    "        \"\"\"SELECT Rendimiento.id, fecha_pago, comienzo_plazo, fin_plazo, TNA, monto\n",
    "    FROM RendimientoUsuario\n",
    "    JOIN Rendimiento ON RendimientoUsuario.id = Rendimiento.id\n",
    "    WHERE clave_uniforme = %s\"\"\",\n",
    "        (cvu3,),\n",
    "    ).fetchall()\n",
    ")\n"
   ]
  },
  {
   "cell_type": "code",
   "execution_count": 1111,
   "metadata": {},
   "outputs": [
    {
     "data": {
      "text/plain": [
       "[(2, None, datetime.date(2024, 5, 10), datetime.date(2024, 5, 11), 78.05212666518727, 1000.0)]"
      ]
     },
     "metadata": {},
     "output_type": "display_data"
    }
   ],
   "source": [
    "# Checkear si el usuario tiene un rendimiento activo, es decir fecha de fin_plazo es posterior a la fecha de la transaccion\n",
    "# Joinear RendimientoUsuario con Rendimiento para obtener el id del rendimiento activo\n",
    "display(\n",
    "    pg.execute(\n",
    "        \"\"\"\n",
    "        SELECT Rendimiento.id, fecha_pago, comienzo_plazo, fin_plazo, TNA, monto\n",
    "        FROM RendimientoUsuario \n",
    "        JOIN Rendimiento ON RendimientoUsuario.id = Rendimiento.id \n",
    "        WHERE clave_uniforme = %s -- AND fin_plazo > (SELECT fecha FROM Transaccion WHERE CU_Origen = %s ORDER BY fecha DESC LIMIT 1)\n",
    "        \"\"\",\n",
    "        (cvu3, cvu3),\n",
    "    ).fetchall()\n",
    ")"
   ]
  },
  {
   "cell_type": "code",
   "execution_count": 1112,
   "metadata": {},
   "outputs": [
    {
     "data": {
      "text/plain": [
       "500.0"
      ]
     },
     "metadata": {},
     "output_type": "display_data"
    }
   ],
   "source": [
    "create_transaccion_debit_between_users(500, \"Transferencia\", sender_cu=cvu3, reciever_cu=cvu1)\n",
    "# Mostrar saldo cvu3 después de la transferencia\n",
    "display(\n",
    "    pg.execute(\n",
    "        \"SELECT saldo FROM Usuarios WHERE clave_uniforme = %s\", (cvu3,)\n",
    "    ).fetchone()[0]\n",
    ")"
   ]
  },
  {
   "cell_type": "code",
   "execution_count": 1113,
   "metadata": {},
   "outputs": [
    {
     "data": {
      "text/plain": [
       "[(2, None, datetime.date(2024, 5, 10), datetime.date(2024, 5, 11), 78.05212666518727, 1000.0),\n",
       " (3, None, datetime.date(2024, 5, 10), datetime.date(2024, 5, 11), 78.05212666518727, 500.0)]"
      ]
     },
     "metadata": {},
     "output_type": "display_data"
    }
   ],
   "source": [
    "display(\n",
    "    pg.execute(\n",
    "        \"\"\"\n",
    "        SELECT Rendimiento.id, fecha_pago, comienzo_plazo, fin_plazo, TNA, monto\n",
    "        FROM RendimientoUsuario \n",
    "        JOIN Rendimiento ON RendimientoUsuario.id = Rendimiento.id \n",
    "        WHERE clave_uniforme = %s\n",
    "        \"\"\",\n",
    "        (cvu3,),\n",
    "    ).fetchall()\n",
    ")"
   ]
  },
  {
   "cell_type": "code",
   "execution_count": 1114,
   "metadata": {},
   "outputs": [
    {
     "name": "stdout",
     "output_type": "stream",
     "text": [
      "2\n",
      "(2, datetime.date(2024, 5, 10), datetime.date(2024, 5, 10), datetime.date(2024, 5, 11), 78.05212666518727, 1000.0)\n",
      "(3, datetime.date(2024, 5, 10), datetime.date(2024, 5, 10), datetime.date(2024, 5, 11), 78.05212666518727, 500.0)\n"
     ]
    },
    {
     "data": {
      "text/plain": [
       "507.3172106848707"
      ]
     },
     "metadata": {},
     "output_type": "display_data"
    },
    {
     "data": {
      "text/markdown": [
       "## Rendimientos pagados\n",
       "- ID: 2\n",
       "- Fecha de pago: 2024-05-10\n",
       "- Comienzo del plazo: 2024-05-10\n",
       "- Fin del plazo: 2024-05-11\n",
       "- TNA: 78.05212666518727\n",
       "- Monto Invertido: 1000.0\n",
       "- Monto Pagado: 4.878140456580473\n",
       "\n",
       "\n",
       "- ID: 3\n",
       "- Fecha de pago: 2024-05-10\n",
       "- Comienzo del plazo: 2024-05-10\n",
       "- Fin del plazo: 2024-05-11\n",
       "- TNA: 78.05212666518727\n",
       "- Monto Invertido: 500.0\n",
       "- Monto Pagado: 2.4390702282902366\n"
      ],
      "text/plain": [
       "<IPython.core.display.Markdown object>"
      ]
     },
     "metadata": {},
     "output_type": "display_data"
    }
   ],
   "source": [
    "rendimientos = pagar_rendimientos_activos_usuario(cvu3)\n",
    "# Mostrar saldo cvu3 después de pagar los rendimientos\n",
    "display(\n",
    "    pg.execute(\n",
    "        \"SELECT saldo FROM Usuarios WHERE clave_uniforme = %s\", (cvu3,)\n",
    "    ).fetchone()[0]\n",
    ")\n",
    "\n",
    "display(\n",
    "    Markdown(\n",
    "        \"## Rendimientos pagados\"\n",
    "        + \"\\n\".join(\n",
    "            [\n",
    "                f\"\"\"\n",
    "- ID: {r[0]}\n",
    "- Fecha de pago: {r[1]}\n",
    "- Comienzo del plazo: {r[2]}\n",
    "- Fin del plazo: {r[3]}\n",
    "- TNA: {r[4]}\n",
    "- Monto Invertido: {r[5]}\n",
    "- Monto Pagado: {r[5] * (1 + r[4] / 100) * (r[3] - r[2]).days / 365}\n",
    "\"\"\"\n",
    "                for r in rendimientos\n",
    "            ]\n",
    "        )\n",
    "    )\n",
    ")"
   ]
  },
  {
   "cell_type": "code",
   "execution_count": 1115,
   "metadata": {},
   "outputs": [
    {
     "data": {
      "text/plain": [
       "[(2, datetime.date(2024, 5, 10), datetime.date(2024, 5, 10), datetime.date(2024, 5, 11), 78.05212666518727, 1000.0),\n",
       " (3, datetime.date(2024, 5, 10), datetime.date(2024, 5, 10), datetime.date(2024, 5, 11), 78.05212666518727, 500.0)]"
      ]
     },
     "execution_count": 1115,
     "metadata": {},
     "output_type": "execute_result"
    }
   ],
   "source": [
    "pg.execute(\n",
    "    \"\"\"SELECT Rendimiento.id, fecha_pago, comienzo_plazo, fin_plazo, TNA, monto\n",
    "    FROM RendimientoUsuario\n",
    "    JOIN Rendimiento ON RendimientoUsuario.id = Rendimiento.id\n",
    "    WHERE clave_uniforme = %s\"\"\",\n",
    "    (cvu3,),\n",
    ").fetchall()"
   ]
  },
  {
   "cell_type": "code",
   "execution_count": 1116,
   "metadata": {},
   "outputs": [
    {
     "data": {
      "text/markdown": [
       "## Rendimientos Pendientes de so.assume.single"
      ],
      "text/plain": [
       "<IPython.core.display.Markdown object>"
      ]
     },
     "metadata": {},
     "output_type": "display_data"
    }
   ],
   "source": [
    "# Obtener todos los registros de rendimientos de cvu3\n",
    "\n",
    "rendimientos_pendientes = pg.execute(\n",
    "    \"\"\"SELECT Rendimiento.id, fecha_pago, comienzo_plazo, fin_plazo, TNA, monto\n",
    "    FROM RendimientoUsuario\n",
    "    JOIN Rendimiento ON RendimientoUsuario.id = Rendimiento.id\n",
    "    WHERE clave_uniforme = %s AND fecha_pago IS NULL\"\"\",\n",
    "    (cvu3,),\n",
    ").fetchall()\n",
    "\n",
    "display(\n",
    "    Markdown(\n",
    "        f\"## Rendimientos Pendientes de {alias3}\"\n",
    "        + \"\\n\".join(\n",
    "            [\n",
    "                f\"\"\"\n",
    "- ID: {r[0]}\n",
    "- Fecha de pago: {r[1]}\n",
    "- Comienzo del plazo: {r[2]}\n",
    "- Fin del plazo: {r[3]}\n",
    "- TNA: {r[4]}\n",
    "- Monto Invertido: {r[5]}\n",
    "\"\"\"\n",
    "                for r in rendimientos_pendientes\n",
    "            ]\n",
    "        )\n",
    "    )\n",
    ")"
   ]
  },
  {
   "cell_type": "code",
   "execution_count": 1117,
   "metadata": {},
   "outputs": [
    {
     "data": {
      "text/plain": [
       "('06290601458791732651415', '31-99782146-7', 'zoecooper@example.net', 'Lawrence', 'Ray', 'tracy43', 'I#CNwTq0_0', 507.3172106848707, datetime.date(2006, 6, 6))"
      ]
     },
     "execution_count": 1117,
     "metadata": {},
     "output_type": "execute_result"
    }
   ],
   "source": [
    "# Mostrar usuario cvu2\n",
    "\n",
    "pg.execute(\"SELECT * FROM Usuarios WHERE clave_uniforme = %s\", (cvu3,)).fetchone()"
   ]
  },
  {
   "cell_type": "code",
   "execution_count": 1118,
   "metadata": {},
   "outputs": [],
   "source": [
    "# Crear un nuevo usuario, y pagarle a cvu1 con una tarjeta\n",
    "\n",
    "cvu4, alias4, cuit4, email4, first_name4, last_name4, user_name4, password4 = (\n",
    "    create_usuario()\n",
    ")\n",
    "\n",
    "create_tarjeta(cvu4)\n",
    "\n",
    "valor = 100"
   ]
  },
  {
   "cell_type": "code",
   "execution_count": 1119,
   "metadata": {},
   "outputs": [
    {
     "data": {
      "text/plain": [
       "('01430216785517305071878',\n",
       " 'interview.relationship.some',\n",
       " '13-68957297-6',\n",
       " 'feliciatate@example.org',\n",
       " 'Stephen',\n",
       " 'Diaz',\n",
       " 'emmasimmons',\n",
       " 'v0uGcFS)#w')"
      ]
     },
     "execution_count": 1119,
     "metadata": {},
     "output_type": "execute_result"
    }
   ],
   "source": [
    "cvu4, alias4, cuit4, email4, first_name4, last_name4, user_name4, password4"
   ]
  },
  {
   "cell_type": "code",
   "execution_count": 1120,
   "metadata": {},
   "outputs": [
    {
     "data": {
      "text/plain": [
       "('30341176197244', datetime.date(2023, 9, 23), 858, '01430216785517305071878')"
      ]
     },
     "execution_count": 1120,
     "metadata": {},
     "output_type": "execute_result"
    }
   ],
   "source": [
    "pg.execute(\"SELECT * FROM Tarjeta WHERE CU = %s\", (cvu4,)).fetchone()"
   ]
  },
  {
   "cell_type": "code",
   "execution_count": 1121,
   "metadata": {},
   "outputs": [
    {
     "data": {
      "text/plain": [
       "[('3502672493399201', datetime.date(2025, 1, 8), 570, '01800815411454799198944'),\n",
       " ('30341176197244', datetime.date(2023, 9, 23), 858, '01430216785517305071878')]"
      ]
     },
     "execution_count": 1121,
     "metadata": {},
     "output_type": "execute_result"
    }
   ],
   "source": [
    "pg.execute(\"SELECT * FROM Tarjeta\").fetchall()"
   ]
  },
  {
   "cell_type": "code",
   "execution_count": 1122,
   "metadata": {},
   "outputs": [
    {
     "data": {
      "text/markdown": [
       "## Transacción de transferencia con tarjeta\n",
       "- Código: 7"
      ],
      "text/plain": [
       "<IPython.core.display.Markdown object>"
      ]
     },
     "metadata": {},
     "output_type": "display_data"
    }
   ],
   "source": [
    "pg.execute(\n",
    "    \"\"\"INSERT INTO Transaccion (CU_Origen, CU_Destino, monto, fecha, descripcion, estado, es_con_tarjeta, numero, interes)\n",
    "    VALUES (%s, %s, %s, %s, %s, %s, %s, %s, %s)\"\"\",\n",
    "    (\n",
    "        cvu4,\n",
    "        cvu1,\n",
    "        valor,\n",
    "        fake.date_this_century(),\n",
    "        \"Transferencia\",\n",
    "        \"Pendiente\",\n",
    "        True,\n",
    "        num_tar1,\n",
    "        8,\n",
    "    ),\n",
    ")\n",
    "\n",
    "codigo_transaccion = pg.execute(\"SELECT codigo FROM Transaccion ORDER BY codigo DESC LIMIT 1\").fetchone()[0]\n",
    "\n",
    "pg.execute(\n",
    "    \"\"\"\n",
    "        INSERT INTO TransaccionTarjeta VALUES (%s, %s)\n",
    "    \"\"\",\n",
    "    (codigo_transaccion, num_tar1),\n",
    ")\n",
    "\n",
    "display(Markdown(f\"## Transacción de transferencia con tarjeta\\n- Código: {codigo_transaccion}\"))"
   ]
  },
  {
   "cell_type": "markdown",
   "metadata": {},
   "source": [
    "### Pagar a un usuario de MercadoPago por su alias"
   ]
  },
  {
   "cell_type": "code",
   "execution_count": 1123,
   "metadata": {},
   "outputs": [
    {
     "data": {
      "text/plain": [
       "'Saldo de cvu1: 01800815411454799198944 antes de la transacción'"
      ]
     },
     "metadata": {},
     "output_type": "display_data"
    },
    {
     "data": {
      "text/plain": [
       "1303.4477838714142"
      ]
     },
     "metadata": {},
     "output_type": "display_data"
    },
    {
     "data": {
      "text/plain": [
       "'Saldo de alias4: interview.relationship.some antes de la transacción'"
      ]
     },
     "metadata": {},
     "output_type": "display_data"
    },
    {
     "data": {
      "text/plain": [
       "0.0"
      ]
     },
     "metadata": {},
     "output_type": "display_data"
    },
    {
     "data": {
      "text/plain": [
       "'Saldo de cvu1: 01800815411454799198944 antes de la transacción'"
      ]
     },
     "metadata": {},
     "output_type": "display_data"
    },
    {
     "data": {
      "text/plain": [
       "1203.4477838714142"
      ]
     },
     "metadata": {},
     "output_type": "display_data"
    },
    {
     "data": {
      "text/plain": [
       "'Saldo de alias4: interview.relationship.some antes de la transacción'"
      ]
     },
     "metadata": {},
     "output_type": "display_data"
    },
    {
     "data": {
      "text/plain": [
       "100.0"
      ]
     },
     "metadata": {},
     "output_type": "display_data"
    }
   ],
   "source": [
    "# Pagar a un usuario de MercadoPago por su alias\n",
    "\n",
    "# Saldo de cvu1 y alias4 antes de la transacción\n",
    "\n",
    "display(\n",
    "    f\"Saldo de cvu1: {cvu1} antes de la transacción\",\n",
    "    pg.execute(\n",
    "        \"SELECT saldo FROM Usuarios WHERE clave_uniforme = %s\", (cvu1,)\n",
    "    ).fetchone()[0]\n",
    ")\n",
    "\n",
    "display(\n",
    "    f\"Saldo de alias4: {alias4} antes de la transacción\",\n",
    "    pg.execute(\n",
    "        \"SELECT saldo FROM Usuarios WHERE clave_uniforme = %s\", (cvu4,)\n",
    "    ).fetchone()[0]\n",
    ")\n",
    "\n",
    "create_transaccion_debit_between_users(100, \"Pago de servicio\", sender_cu=cvu1, reciever_alias=alias4)\n",
    "\n",
    "# Saldo de cvu1 y alias4 despues de la transacción\n",
    "\n",
    "display(\n",
    "    f\"Saldo de cvu1: {cvu1} antes de la transacción\",\n",
    "    pg.execute(\n",
    "        \"SELECT saldo FROM Usuarios WHERE clave_uniforme = %s\", (cvu1,)\n",
    "    ).fetchone()[0],\n",
    ")\n",
    "\n",
    "display(\n",
    "    f\"Saldo de alias4: {alias4} antes de la transacción\",\n",
    "    pg.execute(\n",
    "        \"SELECT saldo FROM Usuarios WHERE clave_uniforme = %s\", (cvu4,)\n",
    "    ).fetchone()[0],\n",
    ")"
   ]
  },
  {
   "cell_type": "code",
   "execution_count": null,
   "metadata": {},
   "outputs": [],
   "source": []
  }
 ],
 "metadata": {
  "kernelspec": {
   "display_name": "coding",
   "language": "python",
   "name": "python3"
  },
  "language_info": {
   "codemirror_mode": {
    "name": "ipython",
    "version": 3
   },
   "file_extension": ".py",
   "mimetype": "text/x-python",
   "name": "python",
   "nbconvert_exporter": "python",
   "pygments_lexer": "ipython3",
   "version": "3.8.12"
  }
 },
 "nbformat": 4,
 "nbformat_minor": 2
}
