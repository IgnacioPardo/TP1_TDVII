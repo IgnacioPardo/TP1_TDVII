{
 "cells": [
  {
   "cell_type": "markdown",
   "metadata": {},
   "source": [
    "## Librerias"
   ]
  },
  {
   "cell_type": "code",
   "execution_count": 82,
   "metadata": {},
   "outputs": [],
   "source": [
    "from IPython.display import display, Markdown\n",
    "import pandas as pd\n",
    "import random\n",
    "from datetime import datetime, timedelta\n",
    "from typing import List, Tuple"
   ]
  },
  {
   "cell_type": "code",
   "execution_count": 64,
   "metadata": {},
   "outputs": [
    {
     "name": "stdout",
     "output_type": "stream",
     "text": [
      "Requirement already satisfied: faker in /Users/nacho/opt/anaconda3/envs/coding/lib/python3.8/site-packages (25.1.0)\n",
      "Requirement already satisfied: python-dateutil>=2.4 in /Users/nacho/opt/anaconda3/envs/coding/lib/python3.8/site-packages (from faker) (2.8.2)\n",
      "Requirement already satisfied: six>=1.5 in /Users/nacho/opt/anaconda3/envs/coding/lib/python3.8/site-packages (from python-dateutil>=2.4->faker) (1.16.0)\n"
     ]
    }
   ],
   "source": [
    "!pip install faker\n",
    "import faker\n",
    "fake = faker.Faker()"
   ]
  },
  {
   "cell_type": "code",
   "execution_count": 65,
   "metadata": {},
   "outputs": [
    {
     "name": "stdout",
     "output_type": "stream",
     "text": [
      "Requirement already satisfied: psycopg2-binary in /Users/nacho/opt/anaconda3/envs/coding/lib/python3.8/site-packages (2.9.9)\n",
      "Requirement already satisfied: sqlalchemy in /Users/nacho/opt/anaconda3/envs/coding/lib/python3.8/site-packages (1.4.41)\n",
      "Requirement already satisfied: greenlet!=0.4.17 in /Users/nacho/opt/anaconda3/envs/coding/lib/python3.8/site-packages (from sqlalchemy) (2.0.1)\n"
     ]
    }
   ],
   "source": [
    "!pip install psycopg2-binary\n",
    "!pip install sqlalchemy\n",
    "from sqlalchemy import create_engine, text\n",
    "from sqlalchemy.orm import sessionmaker"
   ]
  },
  {
   "cell_type": "markdown",
   "metadata": {},
   "source": [
    "## Coneccion a la base de datos"
   ]
  },
  {
   "cell_type": "code",
   "execution_count": 66,
   "metadata": {},
   "outputs": [],
   "source": [
    "# Connect to the database and populate with fake data\n",
    "\n",
    "host = \"localhost\"\n",
    "port = 5432\n",
    "user = \"catedra\"\n",
    "password = \"S3cret\"\n",
    "database = \"postgres\"\n",
    "driver = \"postgresql\"\n",
    "\n",
    "pg = create_engine(\"postgresql://{}:{}@{}:{}/{}\".format(user, password, host, port, database))\n",
    "\n",
    "Session = sessionmaker(bind=pg)"
   ]
  },
  {
   "cell_type": "markdown",
   "metadata": {},
   "source": [
    "## Mercadopago.SQL"
   ]
  },
  {
   "cell_type": "markdown",
   "metadata": {},
   "source": [
    "### Correr desde archivo"
   ]
  },
  {
   "cell_type": "code",
   "execution_count": 91,
   "metadata": {},
   "outputs": [],
   "source": [
    "# correr mercadopago.sql\n",
    "with open(\"mercadopago.sql\") as f:\n",
    "    sql = f.read()\n",
    "    pg.execute(text(sql))"
   ]
  },
  {
   "cell_type": "markdown",
   "metadata": {},
   "source": [
    "### Correr desde string"
   ]
  },
  {
   "cell_type": "markdown",
   "metadata": {},
   "source": [
    "#### Vaciar la base de datos"
   ]
  },
  {
   "cell_type": "code",
   "execution_count": 67,
   "metadata": {},
   "outputs": [
    {
     "data": {
      "text/plain": [
       "<sqlalchemy.engine.cursor.LegacyCursorResult at 0x7fa351d12220>"
      ]
     },
     "execution_count": 67,
     "metadata": {},
     "output_type": "execute_result"
    }
   ],
   "source": [
    "delete_all = \"\"\"\n",
    "DROP SCHEMA public CASCADE;\n",
    "CREATE SCHEMA public;\n",
    "GRANT ALL ON SCHEMA public TO public;\n",
    "\"\"\"\n",
    "\n",
    "pg.execute(delete_all)"
   ]
  },
  {
   "cell_type": "markdown",
   "metadata": {},
   "source": [
    "#### Crear Tablas en la base de datos"
   ]
  },
  {
   "cell_type": "code",
   "execution_count": 68,
   "metadata": {},
   "outputs": [
    {
     "data": {
      "text/plain": [
       "<sqlalchemy.engine.cursor.LegacyCursorResult at 0x7fa351c895e0>"
      ]
     },
     "execution_count": 68,
     "metadata": {},
     "output_type": "execute_result"
    }
   ],
   "source": [
    "create_tables = \"\"\"\n",
    "CREATE TABLE Clave (\n",
    "    clave_uniforme VARCHAR(50) PRIMARY KEY,\n",
    "    alias VARCHAR(50) NOT NULL,\n",
    "    esVirtual BOOLEAN NOT NULL\n",
    ");\n",
    "\n",
    "CREATE TABLE Usuarios (\n",
    "    clave_uniforme VARCHAR(50) PRIMARY KEY,\n",
    "    CUIT VARCHAR(50),\n",
    "    email VARCHAR(50),\n",
    "    nombre VARCHAR(50),\n",
    "    apellido VARCHAR(50),\n",
    "    username VARCHAR(50),\n",
    "    password VARCHAR(50),\n",
    "    saldo FLOAT,\n",
    "    fecha_alta DATE,\n",
    "    FOREIGN KEY (clave_uniforme) REFERENCES Clave(clave_uniforme)\n",
    ");\n",
    "\n",
    "CREATE TABLE CuentaBancaria (\n",
    "    clave_uniforme VARCHAR(50) PRIMARY KEY,\n",
    "    banco VARCHAR(50),\n",
    "    FOREIGN KEY (clave_uniforme) REFERENCES Clave(clave_uniforme)\n",
    ");\n",
    "\n",
    "CREATE TABLE ProveedorServicio (\n",
    "    clave_uniforme VARCHAR(50) PRIMARY KEY,\n",
    "    nombre_empresa VARCHAR(50),\n",
    "    categoria_servicio VARCHAR(50),\n",
    "    fecha_alta DATE,\n",
    "    FOREIGN KEY (clave_uniforme) REFERENCES Clave(clave_uniforme)\n",
    ");\n",
    "\n",
    "CREATE TABLE Tarjeta (\n",
    "    numero VARCHAR(50) PRIMARY KEY,\n",
    "    vencimiento DATE,\n",
    "    cvv INTEGER,\n",
    "    CU VARCHAR(50),\n",
    "    FOREIGN KEY (CU) REFERENCES Clave(clave_uniforme),\n",
    "    CHECK (CU IS NOT NULL)\n",
    ");\n",
    "\n",
    "-- Add trigger on insert to check if cu is virtual, if not, raise exception\n",
    "\n",
    "CREATE OR REPLACE FUNCTION check_cu_virtual() \n",
    "RETURNS TRIGGER AS $$\n",
    "BEGIN\n",
    "    IF (SELECT esVirtual FROM Clave WHERE clave_uniforme = NEW.CU) = FALSE THEN\n",
    "        RAISE EXCEPTION 'CU is not virtual';\n",
    "    END IF;\n",
    "    RETURN NEW;\n",
    "END;\n",
    "$$ LANGUAGE plpgsql;\n",
    "\n",
    "CREATE TRIGGER check_cu_virtual_trigger\n",
    "BEFORE INSERT ON Tarjeta\n",
    "FOR EACH ROW\n",
    "EXECUTE FUNCTION check_cu_virtual();\n",
    "\n",
    "CREATE TABLE Transaccion (\n",
    "    codigo SERIAL PRIMARY KEY,\n",
    "    CU_Origen VARCHAR(50),\n",
    "    CU_Destino VARCHAR(50),\n",
    "    monto FLOAT,\n",
    "    fecha DATE,\n",
    "    descripcion VARCHAR(50),\n",
    "    estado VARCHAR(50),\n",
    "    es_con_tarjeta BOOLEAN,\n",
    "    numero VARCHAR(50),\n",
    "    interes FLOAT,\n",
    "    FOREIGN KEY (CU_Origen) REFERENCES Clave(clave_uniforme),\n",
    "    FOREIGN KEY (CU_Destino) REFERENCES Clave(clave_uniforme),\n",
    "    FOREIGN KEY (numero) REFERENCES Tarjeta(numero)\n",
    ");\n",
    "\n",
    "-- Create trigger to check if user has enough balance to make transaction without card\n",
    "CREATE OR REPLACE FUNCTION check_balance()\n",
    "RETURNS TRIGGER AS $$\n",
    "BEGIN\n",
    "    IF (SELECT saldo FROM Usuarios WHERE clave_uniforme = NEW.CU_Origen) < NEW.monto THEN\n",
    "        RAISE EXCEPTION 'Not enough balance';\n",
    "    END IF;\n",
    "    RETURN NEW;\n",
    "END;\n",
    "$$ LANGUAGE plpgsql;\n",
    "\n",
    "CREATE TRIGGER check_balance_trigger\n",
    "BEFORE INSERT ON Transaccion\n",
    "FOR EACH ROW\n",
    "WHEN (NEW.es_con_tarjeta = FALSE)\n",
    "EXECUTE FUNCTION check_balance();\n",
    "\n",
    "\n",
    "CREATE TABLE Rendimiento (\n",
    "    id SERIAL PRIMARY KEY,\n",
    "    fecha_pago DATE,\n",
    "    comienzo_plazo DATE,\n",
    "    fin_plazo DATE,\n",
    "    TNA FLOAT,\n",
    "    monto FLOAT\n",
    ");\n",
    "\n",
    "CREATE TABLE RendimientoUsuario (\n",
    "    clave_uniforme VARCHAR(50),\n",
    "    id INTEGER,\n",
    "    PRIMARY KEY (clave_uniforme, id),\n",
    "    FOREIGN KEY (clave_uniforme) REFERENCES Clave(clave_uniforme),\n",
    "    FOREIGN KEY (id) REFERENCES Rendimiento(id)\n",
    ");\n",
    "\n",
    "CREATE TABLE TransaccionTarjeta (\n",
    "    codigo INTEGER,\n",
    "    numero VARCHAR(50),\n",
    "    PRIMARY KEY (codigo, numero),\n",
    "    FOREIGN KEY (numero) REFERENCES Tarjeta(numero),\n",
    "    FOREIGN KEY (codigo) REFERENCES Transaccion(codigo)\n",
    ");\n",
    "\n",
    "\"\"\"\n",
    "\n",
    "pg.execute(create_tables)"
   ]
  },
  {
   "cell_type": "markdown",
   "metadata": {},
   "source": [
    "## Crear datos de prueba"
   ]
  },
  {
   "cell_type": "code",
   "execution_count": 151,
   "metadata": {},
   "outputs": [
    {
     "data": {
      "text/plain": [
       "'\\n\\nAlias CBU\\nEn agosto de 2016, el BCRA creó la funcionalidad denominada \"Alias CBU\", la cual permite al cliente bancario incorporar un alias a cada una de sus CBUs, desde la opción de \"Administración de cuentas de transferencias\" disponible en banca por Internet y en banca móvil.3\\u200b\\n\\nEl Alias CBU tiene entre 6 y 20 caracteres con letras, números y símbolos (sólo punto y guion del medio), como \"alejandragisela20″, \"clara-delcarril\". Es único e irrepetible para todo el sistema financiero, mientras que el CBU no desaparece ya que los 22 números respaldan a ese Alias.3\\u200b4\\u200b5\\u200b\\n\\nEn abril de 2017, el BCRA emitió la comunicación A6215 donde expresó que \"...asignará un Alias para cada uno de las CBU que, al 1/6/2017, no tengan registrado el mismo en el reservorio que se encuentra a su cargo\",6\\u200b surgiendo dichos alias de forma automática a través de un algoritmo que combina tres palabras simples del castellano.6\\u200b7\\u200b\\n\\nEstructura de la CBU\\n\\nEstructura de una Clave Bancaria Uniforme\\nLa CBU está compuesta por 22 dígitos, separados en dos bloques. El primer bloque tiene un número de entidad de 3 dígitos, un número de sucursal de 4 dígitos y un dígito verificador. El segundo bloque tiene un número de 13 dígitos que identifica la cuenta dentro de la entidad y la sucursal, más un dígito verificador.\\n\\nPara el número de entidad de 3 dígitos que compone el primer bloque, debe verificarse el código de banco con la siguiente tabla de bancos\\n\\n005\\tThe Royal Bank of Scotland N.V.\\n007\\tBanco de Galicia14 y Buenos Aires S.A.\\n011\\tBanco de la Nación Argentina\\n014\\tBanco de la Provincia de Buenos Aires\\n015\\tIndustrial and Commercial Bank of China S.A.\\n016\\tCitibank N.A.\\n017\\tBBvA Banco Francés S.A.\\n018\\tThe Bank of Tokyo-Mitsubishi UFJ, LTD.\\n020\\tBanco de la Provincia de Córdoba S.A.\\n027\\tBanco Supervielle S.A.\\n029\\tBanco de la Ciudad de Buenos Aires\\n030\\tCentral de la República Argentina\\n034\\tBanco Patagonia S.A.\\n044\\tBanco Hipotecario S.A.\\n045\\tBanco de San Juan S.A.\\n046\\tBanco do Brasil S.A.\\n060\\tBanco de Tucumán S.A.\\n065\\tBanco Municipal de Rosario\\n072\\tBanco Santander Río S.A.\\n083\\tBanco del Chubut S.A.\\n086\\tBanco de Santa Cruz S.A.\\n093\\tBanco de la Pampa Sociedad de Economía Mixta\\n094\\tBanco de Corrientes S.A.\\n097\\tBanco Provincia del Neuquén S.A.\\n143\\tBrubank S.A.U.\\n147\\tBanco Interfinanzas S.A.\\n150\\tHSBC Bank Argentina S.A.\\n158\\tOpenbank\\n165\\tJP Morgan Chase Bank NA (Sucursal Buenos Aires)\\n191\\tBanco Credicoop Cooperativo Limitado\\n198\\tBanco de Valores S.A.\\n247\\tBanco Roela S.A.\\n254\\tBanco Mariva S.A.ī\\n259\\tBanco Itaú Argentina S.A.\\n262\\tBank of America National Association\\n266\\tBNP Paribas\\n268\\tBanco Provincia de Tierra del Fuego\\n269\\tBanco de la República Oriental del Uruguay\\n277\\tBanco Sáenz S.A.\\n281\\tBanco Meridian S.A.\\n285\\tBanco Macro S.A.\\n295\\tAmerican Express Bank LTD. S.A.\\n299\\tBanco Comafi S.A.\\n300\\tBanco de Inversión y Comercio Exterior S.A.\\n301\\tBanco Piano S.A.\\n305\\tBanco Julio S.A.\\n309\\tNuevo Banco de la Rioja S.A.\\n310\\tBanco del Sol S.A.\\n311\\tNuevo Banco del Chaco S.A.\\n312\\tMBA Lazard Banco de Inversiones S.A.\\n315\\tBanco de Formosa S.A.\\n319\\tBanco CMF S.A.\\n321\\tBanco de Santiago del Estero S.A.\\n322\\tBanco Industrial S.A.\\n325\\tDeutsche Bank S.A.\\n330\\tNuevo Banco de Santa Fe S.A.\\n331\\tBanco Cetelem Argentina S.A.\\n332\\tBanco de Servicios Financieros S.A.\\n336\\tBanco Bradesco Argentina S.A.\\n338\\tBanco de Servicios y Transacciones S.A.\\n339\\tRCI Banque S.A.\\n340\\tBACS Banco de Crédito y Securitización S.A.\\n341\\tMás Ventas S.A.\\n384\\tWilobank S.A.\\n386\\tNuevo Banco de Entre Ríos S.A.\\n389\\tBanco Columbia S.A.\\n405\\tFord Credit Compañía Financiera S.A.\\n406\\tMetrópolis Compañía Financiera S.A.\\n408\\tCompañía Financiera Argentina S.A.\\n413\\tMontemar Compañía Financiera S.A.\\n415\\tTransatlántica Compañía Financiera S.A.\\n428\\tCaja de Crédito Coop. La Capital del Plata LTDA.\\n431\\tBanco Coinag S.A.\\n432\\tBanco de Comercio S.A.\\n434\\tCaja de Crédito Cuenca Coop. LTDA.\\n437\\tVolkswagen Credit Compañía Financiera S.A.\\n438\\tCordial Compañía Financiera S.A.\\n440\\tFiat Crédito Compañía Financiera S.A.\\n441\\tGPAT Compañía Financiera S.A.\\n442\\tMercedes-Benz Compañía Financiera Argentina S.A.\\n443\\tRombo Compañía Financiera S.A.\\n444\\tJohn Deere Credit Compañía Financiera S.A.\\n445\\tPSA Finance Argentina Compañía Financiera S.A.\\n446\\tToyota Compañía Financiera de Argentina S.A.\\n448\\tFinandino Compañía Financiera S.A.\\n453\\tNaranja X\\n992\\tProvincanje S.A.\\n\\nLa Clave Única de Identificación Tributaria (CUIT) es un código con el que la AFIP identifica a trabajadores autónomos, comercios y empresas.\\n\\nSe compone de 11 dígitos:\\n\\nun prefijo de 2 dígitos aleatorios, de carácter genérico y no binario en términos de género.\\n\\nseguido por 8 dígitos que corresponden, en el caso de personas humanas, al número de Documento Nacional de Identidad (DNI), y en el caso de empresas al número de sociedad asignado.\\n\\n1 dígito verificador.\\n\\nEn el caso de las personas humanas coincidirá con el Código de Identificación Laboral (CUIL) otorgado por la Administración Nacional de la Seguridad Social (ANSES).\\n\\nFuente: AFIP\\n'"
      ]
     },
     "execution_count": 151,
     "metadata": {},
     "output_type": "execute_result"
    }
   ],
   "source": [
    "\"\"\"\n",
    "\n",
    "Alias CBU\n",
    "En agosto de 2016, el BCRA creó la funcionalidad denominada \"Alias CBU\", la cual permite al cliente bancario incorporar un alias a cada una de sus CBUs, desde la opción de \"Administración de cuentas de transferencias\" disponible en banca por Internet y en banca móvil.3​\n",
    "\n",
    "El Alias CBU tiene entre 6 y 20 caracteres con letras, números y símbolos (sólo punto y guion del medio), como \"alejandragisela20″, \"clara-delcarril\". Es único e irrepetible para todo el sistema financiero, mientras que el CBU no desaparece ya que los 22 números respaldan a ese Alias.3​4​5​\n",
    "\n",
    "En abril de 2017, el BCRA emitió la comunicación A6215 donde expresó que \"...asignará un Alias para cada uno de las CBU que, al 1/6/2017, no tengan registrado el mismo en el reservorio que se encuentra a su cargo\",6​ surgiendo dichos alias de forma automática a través de un algoritmo que combina tres palabras simples del castellano.6​7​\n",
    "\n",
    "Estructura de la CBU\n",
    "\n",
    "Estructura de una Clave Bancaria Uniforme\n",
    "La CBU está compuesta por 22 dígitos, separados en dos bloques. El primer bloque tiene un número de entidad de 3 dígitos, un número de sucursal de 4 dígitos y un dígito verificador. El segundo bloque tiene un número de 13 dígitos que identifica la cuenta dentro de la entidad y la sucursal, más un dígito verificador.\n",
    "\n",
    "Para el número de entidad de 3 dígitos que compone el primer bloque, debe verificarse el código de banco con la siguiente tabla de bancos\n",
    "\n",
    "005\tThe Royal Bank of Scotland N.V.\n",
    "007\tBanco de Galicia14 y Buenos Aires S.A.\n",
    "011\tBanco de la Nación Argentina\n",
    "014\tBanco de la Provincia de Buenos Aires\n",
    "015\tIndustrial and Commercial Bank of China S.A.\n",
    "016\tCitibank N.A.\n",
    "017\tBBvA Banco Francés S.A.\n",
    "018\tThe Bank of Tokyo-Mitsubishi UFJ, LTD.\n",
    "020\tBanco de la Provincia de Córdoba S.A.\n",
    "027\tBanco Supervielle S.A.\n",
    "029\tBanco de la Ciudad de Buenos Aires\n",
    "030\tCentral de la República Argentina\n",
    "034\tBanco Patagonia S.A.\n",
    "044\tBanco Hipotecario S.A.\n",
    "045\tBanco de San Juan S.A.\n",
    "046\tBanco do Brasil S.A.\n",
    "060\tBanco de Tucumán S.A.\n",
    "065\tBanco Municipal de Rosario\n",
    "072\tBanco Santander Río S.A.\n",
    "083\tBanco del Chubut S.A.\n",
    "086\tBanco de Santa Cruz S.A.\n",
    "093\tBanco de la Pampa Sociedad de Economía Mixta\n",
    "094\tBanco de Corrientes S.A.\n",
    "097\tBanco Provincia del Neuquén S.A.\n",
    "143\tBrubank S.A.U.\n",
    "147\tBanco Interfinanzas S.A.\n",
    "150\tHSBC Bank Argentina S.A.\n",
    "158\tOpenbank\n",
    "165\tJP Morgan Chase Bank NA (Sucursal Buenos Aires)\n",
    "191\tBanco Credicoop Cooperativo Limitado\n",
    "198\tBanco de Valores S.A.\n",
    "247\tBanco Roela S.A.\n",
    "254\tBanco Mariva S.A.ī\n",
    "259\tBanco Itaú Argentina S.A.\n",
    "262\tBank of America National Association\n",
    "266\tBNP Paribas\n",
    "268\tBanco Provincia de Tierra del Fuego\n",
    "269\tBanco de la República Oriental del Uruguay\n",
    "277\tBanco Sáenz S.A.\n",
    "281\tBanco Meridian S.A.\n",
    "285\tBanco Macro S.A.\n",
    "295\tAmerican Express Bank LTD. S.A.\n",
    "299\tBanco Comafi S.A.\n",
    "300\tBanco de Inversión y Comercio Exterior S.A.\n",
    "301\tBanco Piano S.A.\n",
    "305\tBanco Julio S.A.\n",
    "309\tNuevo Banco de la Rioja S.A.\n",
    "310\tBanco del Sol S.A.\n",
    "311\tNuevo Banco del Chaco S.A.\n",
    "312\tMBA Lazard Banco de Inversiones S.A.\n",
    "315\tBanco de Formosa S.A.\n",
    "319\tBanco CMF S.A.\n",
    "321\tBanco de Santiago del Estero S.A.\n",
    "322\tBanco Industrial S.A.\n",
    "325\tDeutsche Bank S.A.\n",
    "330\tNuevo Banco de Santa Fe S.A.\n",
    "331\tBanco Cetelem Argentina S.A.\n",
    "332\tBanco de Servicios Financieros S.A.\n",
    "336\tBanco Bradesco Argentina S.A.\n",
    "338\tBanco de Servicios y Transacciones S.A.\n",
    "339\tRCI Banque S.A.\n",
    "340\tBACS Banco de Crédito y Securitización S.A.\n",
    "341\tMás Ventas S.A.\n",
    "384\tWilobank S.A.\n",
    "386\tNuevo Banco de Entre Ríos S.A.\n",
    "389\tBanco Columbia S.A.\n",
    "405\tFord Credit Compañía Financiera S.A.\n",
    "406\tMetrópolis Compañía Financiera S.A.\n",
    "408\tCompañía Financiera Argentina S.A.\n",
    "413\tMontemar Compañía Financiera S.A.\n",
    "415\tTransatlántica Compañía Financiera S.A.\n",
    "428\tCaja de Crédito Coop. La Capital del Plata LTDA.\n",
    "431\tBanco Coinag S.A.\n",
    "432\tBanco de Comercio S.A.\n",
    "434\tCaja de Crédito Cuenca Coop. LTDA.\n",
    "437\tVolkswagen Credit Compañía Financiera S.A.\n",
    "438\tCordial Compañía Financiera S.A.\n",
    "440\tFiat Crédito Compañía Financiera S.A.\n",
    "441\tGPAT Compañía Financiera S.A.\n",
    "442\tMercedes-Benz Compañía Financiera Argentina S.A.\n",
    "443\tRombo Compañía Financiera S.A.\n",
    "444\tJohn Deere Credit Compañía Financiera S.A.\n",
    "445\tPSA Finance Argentina Compañía Financiera S.A.\n",
    "446\tToyota Compañía Financiera de Argentina S.A.\n",
    "448\tFinandino Compañía Financiera S.A.\n",
    "453\tNaranja X\n",
    "992\tProvincanje S.A.\n",
    "\n",
    "La Clave Única de Identificación Tributaria (CUIT) es un código con el que la AFIP identifica a trabajadores autónomos, comercios y empresas.\n",
    "\n",
    "Se compone de 11 dígitos:\n",
    "\n",
    "un prefijo de 2 dígitos aleatorios, de carácter genérico y no binario en términos de género.\n",
    "\n",
    "seguido por 8 dígitos que corresponden, en el caso de personas humanas, al número de Documento Nacional de Identidad (DNI), y en el caso de empresas al número de sociedad asignado.\n",
    "\n",
    "1 dígito verificador.\n",
    "\n",
    "En el caso de las personas humanas coincidirá con el Código de Identificación Laboral (CUIL) otorgado por la Administración Nacional de la Seguridad Social (ANSES).\n",
    "\n",
    "Fuente: AFIP\n",
    "\"\"\"\n"
   ]
  },
  {
   "cell_type": "code",
   "execution_count": 152,
   "metadata": {},
   "outputs": [
    {
     "data": {
      "text/plain": [
       "'02470307052900979637458'"
      ]
     },
     "metadata": {},
     "output_type": "display_data"
    },
    {
     "data": {
      "text/plain": [
       "'perform.find.black'"
      ]
     },
     "metadata": {},
     "output_type": "display_data"
    },
    {
     "data": {
      "text/plain": [
       "'43-87490041-9'"
      ]
     },
     "metadata": {},
     "output_type": "display_data"
    }
   ],
   "source": [
    "def random_dni():\n",
    "    return str(random.randint(10**7, 10**8 - 1))\n",
    "\n",
    "\n",
    "def random_cuit():\n",
    "    return (\n",
    "        str(random.randint(10, 99))\n",
    "        + \"-\"\n",
    "        + random_dni()\n",
    "        + \"-\"\n",
    "        + str(random.randint(0, 9))\n",
    "    )\n",
    "\n",
    "\n",
    "def random_cu():\n",
    "    return (\n",
    "        \"0\"\n",
    "        + str(random.randint(0, 999))\n",
    "        + \"0\"\n",
    "        + str(random.randint(0, 9999))\n",
    "        + str(random.randint(0, 9))\n",
    "        + str(random.randint(10**12, 10**13 - 1))\n",
    "    )\n",
    "\n",
    "\n",
    "def random_alias():\n",
    "    return \".\".join(fake.words(nb=3))\n",
    "\n",
    "\n",
    "cu = random_cu()\n",
    "alias = random_alias()\n",
    "cuit = random_cuit()\n",
    "\n",
    "display(cu, alias, cuit)\n"
   ]
  },
  {
   "cell_type": "code",
   "execution_count": 153,
   "metadata": {},
   "outputs": [
    {
     "data": {
      "text/markdown": [
       "\n",
       "# Usuarios\n",
       "- Jared Chandler - iford@example.com - greerryan - V(x91Es^lH | 41-38366181-8 - 04830279907429520135534 - enough.relate.understand\n",
       "- Anthony Jones - james48@example.org - showe - IB9WTWsmC* | 74-59695361-6 - 05140685864015702391984 - record.course.room\n",
       "\n",
       "# Proveedores de Servicio\n",
       "- evidence.cut.enter - 04260777136730688130505\n",
       "\n",
       "# Cuentas Bancarias\n",
       "- get.heavy.staff - 0780665243583035456540\n"
      ],
      "text/plain": [
       "<IPython.core.display.Markdown object>"
      ]
     },
     "metadata": {},
     "output_type": "display_data"
    }
   ],
   "source": [
    "def insert_clave_uniforme(\n",
    "        cu: str,\n",
    "        alias: str,\n",
    "        esVirtual: bool\n",
    "    ) -> None:\n",
    "    \"\"\"Inserta una clave uniforme en la base de datos\n",
    "\n",
    "    Args:\n",
    "        cu (str): Clave Uniforme\n",
    "        alias (str): Alias\n",
    "        esVirtual (bool): Es virtual o no\n",
    "    \"\"\"\n",
    "\n",
    "    pg.execute(\"INSERT INTO Clave VALUES (%s, %s, %s)\", (cu, alias, esVirtual))\n",
    "\n",
    "\n",
    "def create_identifiers() -> Tuple[str, str, str]:\n",
    "    \"\"\"Crea identificadores aleatorios\n",
    "\n",
    "    Returns:\n",
    "        Tuple[str, str, str]: CU, Alias, CUIT\n",
    "    \"\"\"\n",
    "\n",
    "    cu = random_cu()\n",
    "    alias = random_alias()\n",
    "    cuit = random_cuit()\n",
    "\n",
    "    return cu, alias, cuit\n",
    "\n",
    "\n",
    "def create_usuario() -> Tuple[str, str, str, str, str, str, str, str]:\n",
    "    \"\"\"Crea un usuario aleatorio\n",
    "\n",
    "    Returns:\n",
    "        Tuple[str, str, str, str, str, str, str, str]: CVU, Alias, CUIT, Email, Nombre, Apellido, Username, Password\n",
    "    \"\"\"\n",
    "\n",
    "    cvu, alias, cuit = create_identifiers()\n",
    "    insert_clave_uniforme(cvu, alias, True)\n",
    "    pg.execute(\n",
    "        \"INSERT INTO Usuarios VALUES (%s, %s, %s, %s, %s, %s, %s, %s, %s)\",\n",
    "        (\n",
    "            cvu,\n",
    "            cuit,\n",
    "            (email := fake.email()),\n",
    "            (first_name := fake.first_name()),\n",
    "            (last_name := fake.last_name()),\n",
    "            (user_name := fake.user_name()),\n",
    "            (password := fake.password()),\n",
    "            0,\n",
    "            fake.date_this_century(),\n",
    "        ),\n",
    "    )\n",
    "    return cvu, alias, cuit, email, first_name, last_name, user_name, password\n",
    "\n",
    "\n",
    "def create_cuenta_bancaria() -> Tuple[str, str]:\n",
    "    \"\"\"Crea una cuenta bancaria aleatoria\n",
    "\n",
    "    Returns:\n",
    "        Tuple[str, str]: CU, Alias\n",
    "    \"\"\"\n",
    "    cvu, alias, _ = create_identifiers()\n",
    "    insert_clave_uniforme(cvu, alias, False)\n",
    "    pg.execute(\"INSERT INTO CuentaBancaria VALUES (%s, %s)\", (cvu, fake.company()))\n",
    "    return cvu, alias\n",
    "\n",
    "\n",
    "def create_proveedor_servicio() -> Tuple[str, str]:\n",
    "    \"\"\"Crea un proveedor de servicio aleatorio\n",
    "\n",
    "    Returns:\n",
    "        Tuple[str, str]: CU, Alias\n",
    "    \"\"\"\n",
    "    cvu, alias, _ = create_identifiers()\n",
    "    insert_clave_uniforme(cvu, alias, False)\n",
    "    pg.execute(\n",
    "        \"INSERT INTO ProveedorServicio VALUES (%s, %s, %s, %s)\",\n",
    "        (cvu, fake.company(), fake.word(), fake.date_this_century()),\n",
    "    )\n",
    "    return cvu, alias\n",
    "\n",
    "\n",
    "def add_tarjeta(\n",
    "        cvu : str,\n",
    "        number : str,\n",
    "        cvv : str,\n",
    "        vencimiento : str\n",
    "    ):\n",
    "    \"\"\"Agrega una tarjeta a la base de datos\n",
    "\n",
    "    Args:\n",
    "        cvu (str): CVU del usuario al que pertenece la tarjeta\n",
    "        number (str): Número de tarjeta\n",
    "        cvv (str): CVV\n",
    "        vencimiento (str): Fecha de vencimiento\n",
    "    \"\"\"\n",
    "\n",
    "    pg.execute(\n",
    "        \"INSERT INTO Tarjeta VALUES (%s, %s, %s, %s)\", (number, vencimiento, cvv, cvu)\n",
    "    )\n",
    "\n",
    "\n",
    "def create_tarjeta(cvu : str) -> Tuple[str, str, str]:\n",
    "    \"\"\"Crea una tarjeta aleatoria\n",
    "\n",
    "    Args:\n",
    "        cvu (str): CVU del usuario al que pertenece la tarjeta\n",
    "\n",
    "    Returns:\n",
    "        Tuple[str, str, str]: Número, CVV, Vencimiento\n",
    "    \"\"\"\n",
    "    \n",
    "    add_tarjeta(\n",
    "        cvu,\n",
    "        (num := fake.credit_card_number()),\n",
    "        (cvv := fake.credit_card_security_code()),\n",
    "        (vencimiento := fake.date_between(start_date=\"-1y\", end_date=\"+1y\")),\n",
    "    )\n",
    "    return num, cvv, vencimiento\n",
    "\n",
    "\n",
    "cvu1, alias1, cuit1, email1, first_name1, last_name1, user_name1, password1 = create_usuario()\n",
    "cvu2, alias2, cuit2, email2, first_name2, last_name2, user_name2, password2 = create_usuario()\n",
    "\n",
    "cvu_serv1, alias_serv1 = create_proveedor_servicio()\n",
    "cvu_cuenta1, alias_cuenta1 = create_cuenta_bancaria()\n",
    "\n",
    "display(\n",
    "    Markdown(\n",
    "        f\"\"\"\n",
    "# Usuarios\n",
    "- {first_name1} {last_name1} - {email1} - {user_name1} - {password1} | {cuit1} - {cvu1} - {alias1}\n",
    "- {first_name2} {last_name2} - {email2} - {user_name2} - {password2} | {cuit2} - {cvu2} - {alias2}\n",
    "\n",
    "# Proveedores de Servicio\n",
    "- {alias_serv1} - {cvu_serv1}\n",
    "\n",
    "# Cuentas Bancarias\n",
    "- {alias_cuenta1} - {cvu_cuenta1}\n",
    "\"\"\"\n",
    "    )\n",
    "\n",
    ")"
   ]
  },
  {
   "cell_type": "code",
   "execution_count": 154,
   "metadata": {},
   "outputs": [
    {
     "data": {
      "text/plain": [
       "('2237430911434611', '4079', datetime.date(2025, 4, 3))"
      ]
     },
     "execution_count": 154,
     "metadata": {},
     "output_type": "execute_result"
    }
   ],
   "source": [
    "num_tar1, cvv_tar1, venc_tar1 = create_tarjeta(cvu1)\n",
    "num_tar1, cvv_tar1, venc_tar1"
   ]
  },
  {
   "cell_type": "code",
   "execution_count": 155,
   "metadata": {},
   "outputs": [
    {
     "data": {
      "text/markdown": [
       "## Not enough balance"
      ],
      "text/plain": [
       "<IPython.core.display.Markdown object>"
      ]
     },
     "metadata": {},
     "output_type": "display_data"
    }
   ],
   "source": [
    "# Try to insert a transaction without enough balance\n",
    "\n",
    "try:\n",
    "    pg.execute(\n",
    "        \"\"\"INSERT INTO Transaccion (CU_Origen, CU_Destino, monto, fecha, descripcion, estado, es_con_tarjeta, numero, interes)\n",
    "            VALUES (%s, %s, %s, %s, %s, %s, %s, %s, %s)\"\"\",\n",
    "        (\n",
    "            cvu1,\n",
    "            cvu2,\n",
    "            100,\n",
    "            fake.date_this_century(),\n",
    "            \"Transferencia\",\n",
    "            \"Pendiente\",\n",
    "            False,\n",
    "            None,\n",
    "            0,\n",
    "        ),\n",
    "    )\n",
    "except Exception as e:\n",
    "    if \"Not enough balance\" in str(e):\n",
    "        display(Markdown(\"## Not enough balance\"))"
   ]
  },
  {
   "cell_type": "code",
   "execution_count": 156,
   "metadata": {},
   "outputs": [
    {
     "data": {
      "text/markdown": [
       "## Not enough balance"
      ],
      "text/plain": [
       "<IPython.core.display.Markdown object>"
      ]
     },
     "metadata": {},
     "output_type": "display_data"
    }
   ],
   "source": [
    "def create_transaccion_debit_between_users(\n",
    "        sender : str,\n",
    "        reciever : str,\n",
    "        amount : float,\n",
    "        description : str\n",
    "    ) -> int:\n",
    "    \"\"\"Debita una cantidad de dinero de un usuario y la transfiere a otro\n",
    "\n",
    "    Args:\n",
    "        sender (str): CVU del usuario que envía el dinero\n",
    "        reciever (str): CVU del usuario que recibe el dinero\n",
    "        amount (float): Cantidad de dinero\n",
    "        description (str): Descripción de la transacción\n",
    "\n",
    "    Returns:\n",
    "        int: Código de la transacción\n",
    "    \"\"\"\n",
    "\n",
    "    # Check for balance first\n",
    "    if pg.execute(\"SELECT saldo FROM Usuarios WHERE clave_uniforme = %s\", (sender,)).fetchone()[0] < amount:\n",
    "        raise Exception(\"Not enough balance\")\n",
    "\n",
    "    pg.execute(\n",
    "        \"\"\"INSERT INTO Transaccion (CU_Origen, CU_Destino, monto, fecha, descripcion, estado, es_con_tarjeta, numero, interes)\n",
    "        VALUES (%s, %s, %s, %s, %s, %s, %s, %s, %s)\"\"\",\n",
    "        (\n",
    "            sender,\n",
    "            reciever,\n",
    "            amount,\n",
    "            fake.date_this_century(),\n",
    "            description,\n",
    "            fake.word(),\n",
    "            False,\n",
    "            None,\n",
    "            None,\n",
    "        ),\n",
    "    )\n",
    "\n",
    "    pg.execute(\n",
    "        \"UPDATE Usuarios SET saldo = saldo - %s WHERE clave_uniforme = %s\",\n",
    "        (amount, sender),\n",
    "    )\n",
    "\n",
    "    pg.execute(\n",
    "        \"UPDATE Usuarios SET saldo = saldo + %s WHERE clave_uniforme = %s\",\n",
    "        (amount, reciever),\n",
    "    )\n",
    "\n",
    "    return pg.execute(\"SELECT codigo FROM Transaccion ORDER BY codigo DESC LIMIT 1\").fetchone()[0]\n",
    "\n",
    "# Try again to insert a transaction without enough balance\n",
    "\n",
    "try:\n",
    "    create_transaccion_debit_between_users(cvu1, cvu2, 100, \"Transferencia\")\n",
    "except Exception as e:\n",
    "    if \"Not enough balance\" in str(e):\n",
    "        display(Markdown(\"## Not enough balance\"))"
   ]
  },
  {
   "cell_type": "code",
   "execution_count": 157,
   "metadata": {},
   "outputs": [
    {
     "data": {
      "text/markdown": [
       "## Transacción de depósito\n",
       "- Código: 2\n",
       "- Saldo final: 1000.0"
      ],
      "text/plain": [
       "<IPython.core.display.Markdown object>"
      ]
     },
     "metadata": {},
     "output_type": "display_data"
    }
   ],
   "source": [
    "# Deposit money to user 1 from a bank account\n",
    "\n",
    "def create_transaccion_deposit(\n",
    "    user: str, cbu_cuenta_bancaria: str, amount: float, description: str\n",
    ") -> Tuple[str, float]:\n",
    "    \"\"\"Deposita dinero en la cuenta de un usuario\n",
    "\n",
    "    Args:\n",
    "        user (str): CVU del usuario\n",
    "        amount (float): Cantidad de dinero\n",
    "        description (str): Descripción de la transacción\n",
    "\n",
    "    Returns:\n",
    "        Tuple[str, float]: Código de la transacción, Saldo final\n",
    "    \"\"\"\n",
    "\n",
    "    pg.execute(\n",
    "        \"\"\"INSERT INTO Transaccion (CU_Origen, CU_Destino, monto, fecha, descripcion, estado, es_con_tarjeta, numero, interes)\n",
    "        VALUES (%s, %s, %s, %s, %s, %s, %s, %s, %s)\"\"\",\n",
    "        (\n",
    "            cvu_cuenta1,\n",
    "            user,\n",
    "            amount,\n",
    "            fake.date_this_century(),\n",
    "            description,\n",
    "            fake.word(),\n",
    "            False,\n",
    "            None,\n",
    "            None,\n",
    "        ),\n",
    "    )\n",
    "\n",
    "    pg.execute(\n",
    "        \"UPDATE Usuarios SET saldo = saldo + %s WHERE clave_uniforme = %s\",\n",
    "        (amount, user),\n",
    "    )\n",
    "\n",
    "    return (\n",
    "        str(\n",
    "            pg.execute(\n",
    "                \"SELECT codigo FROM Transaccion ORDER BY codigo DESC LIMIT 1\"\n",
    "            ).fetchone()[0]\n",
    "        ),\n",
    "        float(\n",
    "            pg.execute(\n",
    "                \"SELECT saldo FROM Usuarios WHERE clave_uniforme = %s\", (user,)\n",
    "            ).fetchone()[0]\n",
    "        ),\n",
    "    )\n",
    "\n",
    "\n",
    "codigo_transaccion, saldo_final = create_transaccion_deposit(\n",
    "    cvu1, cvu_cuenta1, 1000, \"Depósito\"\n",
    ")\n",
    "\n",
    "display(Markdown(f\"## Transacción de depósito\\n- Código: {codigo_transaccion}\\n- Saldo final: {saldo_final}\"))"
   ]
  },
  {
   "cell_type": "code",
   "execution_count": 158,
   "metadata": {},
   "outputs": [
    {
     "data": {
      "text/markdown": [
       "## Transacción de transferencia\n",
       "- Código: 3"
      ],
      "text/plain": [
       "<IPython.core.display.Markdown object>"
      ]
     },
     "metadata": {},
     "output_type": "display_data"
    },
    {
     "data": {
      "text/plain": [
       "(3, '04830279907429520135534', '05140685864015702391984', 100.0, datetime.date(2020, 1, 25), 'Transferencia', 'eye', False, None, None)"
      ]
     },
     "execution_count": 158,
     "metadata": {},
     "output_type": "execute_result"
    }
   ],
   "source": [
    "# Transfer money from user 1 to user 2 now that user 1 has enough balance\n",
    "\n",
    "codigo_transaccion = create_transaccion_debit_between_users(\n",
    "    cvu1, cvu2, 100, \"Transferencia\"\n",
    ")\n",
    "\n",
    "display(Markdown(f\"## Transacción de transferencia\\n- Código: {codigo_transaccion}\"))\n",
    "\n",
    "# Buscar transacciones y mostrar\n",
    "\n",
    "pg.execute(\"SELECT * FROM Transaccion WHERE codigo = %s\", (codigo_transaccion,)).fetchone()"
   ]
  },
  {
   "cell_type": "code",
   "execution_count": 159,
   "metadata": {},
   "outputs": [
    {
     "data": {
      "text/markdown": [
       "## Nombres de servicios\n",
       "- Nelson LLC"
      ],
      "text/plain": [
       "<IPython.core.display.Markdown object>"
      ]
     },
     "metadata": {},
     "output_type": "display_data"
    },
    {
     "data": {
      "text/markdown": [
       "## Nombre de servicio aleatorio\n",
       "- Nelson LLC"
      ],
      "text/plain": [
       "<IPython.core.display.Markdown object>"
      ]
     },
     "metadata": {},
     "output_type": "display_data"
    }
   ],
   "source": [
    "# Listar nombres de Servicios\n",
    "\n",
    "nombres = pg.execute(\"SELECT nombre_empresa FROM ProveedorServicio\").fetchall()\n",
    "\n",
    "display(Markdown(f\"## Nombres de servicios\\n- {', '.join([n[0] for n in nombres])}\"))\n",
    "\n",
    "sample_nombre = random.choice(nombres)[0]\n",
    "\n",
    "display(Markdown(f\"## Nombre de servicio aleatorio\\n- {sample_nombre}\"))"
   ]
  },
  {
   "cell_type": "code",
   "execution_count": 160,
   "metadata": {},
   "outputs": [
    {
     "data": {
      "text/plain": [
       "('4', 800.0)"
      ]
     },
     "execution_count": 160,
     "metadata": {},
     "output_type": "execute_result"
    }
   ],
   "source": [
    "# Pagar un servicio\n",
    "\n",
    "def create_transaccion_pay_service(\n",
    "    user: str, service_name: str, amount: float, description: str\n",
    ") -> Tuple[str, float]:\n",
    "    \"\"\"Paga un servicio\n",
    "\n",
    "    Args:\n",
    "        user (str): CVU del usuario\n",
    "        service_name (str): Nombre del servicio\n",
    "        amount (float): Cantidad de dinero\n",
    "        description (str): Descripción de la transacción\n",
    "    \n",
    "    Returns:\n",
    "        Tuple[str, float]: Código de la transacción, Saldo final\n",
    "    \"\"\"\n",
    "\n",
    "    # Check for balance first\n",
    "    if pg.execute(\"SELECT saldo FROM Usuarios WHERE clave_uniforme = %s\", (user,)).fetchone()[0] < amount:\n",
    "        raise Exception(\"Not enough balance\")\n",
    "\n",
    "    # Hallar el cbu del servicio por su nombre\n",
    "    cbu_servicio = pg.execute(\n",
    "        \"SELECT clave_uniforme FROM ProveedorServicio WHERE nombre_empresa = %s\",\n",
    "        (service_name,),\n",
    "    ).fetchone()[0]\n",
    "\n",
    "    pg.execute(\n",
    "        \"\"\"INSERT INTO Transaccion (CU_Origen, CU_Destino, monto, fecha, descripcion, estado, es_con_tarjeta, numero, interes)\n",
    "        VALUES (%s, %s, %s, %s, %s, %s, %s, %s, %s)\"\"\",\n",
    "        (\n",
    "            user,\n",
    "            cbu_servicio,\n",
    "            amount,\n",
    "            fake.date_this_century(),\n",
    "            description,\n",
    "            fake.word(),\n",
    "            False,\n",
    "            None,\n",
    "            None,\n",
    "        ),\n",
    "    )\n",
    "\n",
    "    pg.execute(\n",
    "        \"UPDATE Usuarios SET saldo = saldo - %s WHERE clave_uniforme = %s\",\n",
    "        (amount, user),\n",
    "    )\n",
    "\n",
    "    return (\n",
    "        str(\n",
    "            pg.execute(\n",
    "                \"SELECT codigo FROM Transaccion ORDER BY codigo DESC LIMIT 1\"\n",
    "            ).fetchone()[0]\n",
    "        ),\n",
    "        float(\n",
    "            pg.execute(\n",
    "                \"SELECT saldo FROM Usuarios WHERE clave_uniforme = %s\", (user,)\n",
    "            ).fetchone()[0]\n",
    "        ),\n",
    "    )\n",
    "\n",
    "create_transaccion_pay_service(cvu1, sample_nombre, 100, \"Pago de servicio\")"
   ]
  },
  {
   "cell_type": "code",
   "execution_count": 166,
   "metadata": {},
   "outputs": [],
   "source": [
    "# Invertir plata en la fecha y generar rendimientos a futuro\n",
    "\n",
    "\n",
    "def comenzar_inversion(\n",
    "    cvu: str,\n",
    "):\n",
    "    \"\"\"\n",
    "    CREATE TABLE Rendimiento (\n",
    "        id SERIAL PRIMARY KEY,\n",
    "        fecha_pago DATE,\n",
    "        comienzo_plazo DATE NOT NULL,\n",
    "        fin_plazo DATE,\n",
    "        TNA FLOAT,\n",
    "        monto FLOAT\n",
    "    );\n",
    "    \"\"\"\n",
    "    # Se pone a invertir el monto total del usuario\n",
    "    # La fecha del comienzo del plazo es ahora,\n",
    "    # El fin del plazo es en 1 dia\n",
    "    # La fecha de pago es el próximo dia hábil\n",
    "    # La tna es entre 60 y 80\n",
    "    # El monto es el saldo del usuario\n",
    "\n",
    "    # Solo se puede tener un rendimiento en un comienzo de plazo dado\n",
    "    # Si ya hay un rendimiento activo y se va a generar otro, se debe finalizar el anterior\n",
    "\n",
    "    # Hallar el saldo del usuario\n",
    "    saldo = pg.execute(\n",
    "        \"SELECT saldo FROM Usuarios WHERE clave_uniforme = %s\", (cvu,)\n",
    "    ).fetchone()[0]\n",
    "\n",
    "    # Hallar si hay un rendimiento activo\n",
    "    rendimiento_activo = pg.execute(\n",
    "        \"SELECT * FROM Rendimiento WHERE comienzo_plazo = CURRENT_DATE\"\n",
    "    ).fetchone()\n",
    "\n",
    "    if rendimiento_activo:\n",
    "        # Finalizar el rendimiento activo\n",
    "        pg.execute(\n",
    "            \"UPDATE Rendimiento SET fin_plazo = CURRENT_DATE WHERE id = %s\",\n",
    "            (rendimiento_activo[0],),\n",
    "        )\n",
    "\n",
    "    # Generar un nuevo rendimiento\n",
    "    tna = random.uniform(60, 80)\n",
    "    monto = saldo\n",
    "    fin_plazo = datetime.now() + timedelta(days=1)\n",
    "\n",
    "    pg.execute(\n",
    "        \"\"\"INSERT INTO Rendimiento (comienzo_plazo, fin_plazo, TNA, monto)\n",
    "        VALUES (%s, %s, %s, %s)\"\"\",\n",
    "        (\n",
    "            datetime.now(),\n",
    "            fin_plazo,\n",
    "            tna,\n",
    "            monto,\n",
    "        ),\n",
    "    )\n",
    "\n",
    "    # Asociar el rendimiento al usuario\n",
    "    rendimiento_id = pg.execute(\n",
    "        \"SELECT id FROM Rendimiento ORDER BY id DESC LIMIT 1\"\n",
    "    ).fetchone()[0]\n",
    "\n",
    "    pg.execute(\n",
    "        \"INSERT INTO RendimientoUsuario VALUES (%s, %s)\",\n",
    "        (cvu, rendimiento_id),\n",
    "    )\n",
    "\n",
    "    return rendimiento_id\n",
    "\n",
    "\n",
    "def pagar_rendimientos_usuario(cvu: str) -> List:\n",
    "    \"\"\"\n",
    "    Paga los rendimientos de un usuario\n",
    "\n",
    "    Args:\n",
    "        cvu (str): Clave uniforme del usuario\n",
    "\n",
    "    Returns:\n",
    "        List: Lista de los montos pagados\n",
    "    \"\"\"\n",
    "\n",
    "    # Hallar los rendimientos no pagados del usuario, es decir sin fecha de pago\n",
    "    # JOIN con Rendimiento para hallar los datos del rendimiento\n",
    "\n",
    "    rendimientos = pg.execute(\n",
    "        \"\"\"SELECT Rendimiento.id, fecha_pago, comienzo_plazo, fin_plazo, TNA, monto\n",
    "        FROM RendimientoUsuario\n",
    "        JOIN Rendimiento ON RendimientoUsuario.id = Rendimiento.id\n",
    "        WHERE clave_uniforme = %s AND fecha_pago IS NULL\"\"\",\n",
    "        (cvu,),\n",
    "    ).fetchall()\n",
    "\n",
    "    for rendimiento in rendimientos:\n",
    "        # Pagar el rendimiento\n",
    "        pg.execute(\n",
    "            \"UPDATE Rendimiento SET fecha_pago = CURRENT_DATE WHERE id = %s\",\n",
    "            (rendimiento[0],),\n",
    "        )\n",
    "\n",
    "        # Añadir el rendimiento generado al saldo del usuario\n",
    "        # El rendimiento es el monto * (1 + TNA / 100) * (fin_plazo - comienzo_plazo) / 365\n",
    "        rendimiento_generado = (\n",
    "            rendimiento[5]\n",
    "            * (1 + rendimiento[4] / 100)\n",
    "            * (rendimiento[3] - rendimiento[2]).days\n",
    "            / 365\n",
    "        )\n",
    "\n",
    "        pg.execute(\n",
    "            \"UPDATE Usuarios SET saldo = saldo + %s WHERE clave_uniforme = %s\",\n",
    "            (rendimiento_generado, cvu),\n",
    "        )\n",
    "\n",
    "    if not rendimientos:\n",
    "        return []\n",
    "\n",
    "    # Refetch los rendimientos para mostrar by r[0] for r in rendimientos\n",
    "    updated_rendimientos = pg.execute(\n",
    "        \"\"\"SELECT Rendimiento.id, fecha_pago, comienzo_plazo, fin_plazo, TNA, monto\n",
    "        FROM RendimientoUsuario\n",
    "        JOIN Rendimiento ON RendimientoUsuario.id = Rendimiento.id\n",
    "        WHERE clave_uniforme = %s AND Rendimiento.id IN %s\"\"\",\n",
    "        (cvu, tuple([r[0] for r in rendimientos])),\n",
    "    ).fetchall()\n",
    "\n",
    "    return updated_rendimientos"
   ]
  },
  {
   "cell_type": "code",
   "execution_count": 161,
   "metadata": {},
   "outputs": [
    {
     "data": {
      "text/markdown": [
       "## Rendimiento comenzado\n",
       "- ID: 1"
      ],
      "text/plain": [
       "<IPython.core.display.Markdown object>"
      ]
     },
     "metadata": {},
     "output_type": "display_data"
    },
    {
     "data": {
      "text/markdown": [
       "## Rendimientos pagados\n",
       "- ID: 1\n",
       "- Fecha de pago: 2024-05-10\n",
       "- Comienzo del plazo: 2024-05-10\n",
       "- Fin del plazo: 2024-05-11\n",
       "- TNA: 71.24817198597383\n",
       "- Monto Invertido: 800.0\n",
       "- Monto Pagado: 1369.9853758877907\n"
      ],
      "text/plain": [
       "<IPython.core.display.Markdown object>"
      ]
     },
     "metadata": {},
     "output_type": "display_data"
    }
   ],
   "source": [
    "rendimiento_id = comenzar_inversion(cvu1)\n",
    "\n",
    "display(Markdown(f\"## Rendimiento comenzado\\n- ID: {rendimiento_id}\"))\n",
    "\n",
    "rendimientos = pagar_rendimientos_usuario(cvu1)\n",
    "\n",
    "display(\n",
    "    Markdown(\"## Rendimientos pagados\" + \"\\n\".join([f\"\"\"\n",
    "- ID: {r[0]}\n",
    "- Fecha de pago: {r[1]}\n",
    "- Comienzo del plazo: {r[2]}\n",
    "- Fin del plazo: {r[3]}\n",
    "- TNA: {r[4]}\n",
    "- Monto Invertido: {r[5]}\n",
    "- Monto Pagado: {r[5] * (1 + rendimientos[0][4] / 100)}\n",
    "\"\"\" for r in rendimientos])\n",
    "    )\n",
    ")"
   ]
  },
  {
   "cell_type": "code",
   "execution_count": 162,
   "metadata": {},
   "outputs": [
    {
     "data": {
      "text/plain": [
       "0.0"
      ]
     },
     "metadata": {},
     "output_type": "display_data"
    },
    {
     "data": {
      "text/plain": [
       "1000.0"
      ]
     },
     "metadata": {},
     "output_type": "display_data"
    },
    {
     "data": {
      "text/plain": [
       "500.0"
      ]
     },
     "metadata": {},
     "output_type": "display_data"
    },
    {
     "data": {
      "text/plain": [
       "504.7050707638222"
      ]
     },
     "metadata": {},
     "output_type": "display_data"
    },
    {
     "data": {
      "text/markdown": [
       "## Rendimientos pagados\n",
       "- ID: 2\n",
       "- Fecha de pago: 2024-05-10\n",
       "- Comienzo del plazo: 2024-05-10\n",
       "- Fin del plazo: 2024-05-11\n",
       "- TNA: 71.73508287951043\n",
       "- Monto Invertido: 1000.0\n",
       "- Monto Pagado: 1717.3508287951042\n"
      ],
      "text/plain": [
       "<IPython.core.display.Markdown object>"
      ]
     },
     "metadata": {},
     "output_type": "display_data"
    }
   ],
   "source": [
    "# Crear un nuevo usuario 3\n",
    "# depositar 1000,\n",
    "# comenzar un rendimiento\n",
    "# interrumpirlo transfiriendole 500 al usuario 1 (Agregar un trigger para que cuando se cree una transacción, si el usuario tiene un rendimiento activo, se finalice y se cree uno nuevo con el monto restante pero que no se pague)\n",
    "# continuar el rendimiento y pagar los rendimientos\n",
    "\n",
    "# TLDR; Hacer una transferencia con un rendimiento activo y ver que pasa\n",
    "\n",
    "\n",
    "cvu3, alias3, cuit3, email3, first_name3, last_name3, user_name3, password3 = create_usuario()\n",
    "\n",
    "# Mostrar saldo cvu3\n",
    "display(pg.execute(\"SELECT saldo FROM Usuarios WHERE clave_uniforme = %s\", (cvu3,)).fetchone()[0])\n",
    "\n",
    "create_transaccion_deposit(cvu3, cvu_cuenta1, 1000, \"Depósito\")\n",
    "\n",
    "# Mostrar saldo cvu3 después del depósito\n",
    "display(pg.execute(\"SELECT saldo FROM Usuarios WHERE clave_uniforme = %s\", (cvu3,)).fetchone()[0])\n",
    "\n",
    "rendimiento_id = comenzar_inversion(cvu3)\n",
    "\n",
    "create_transaccion_debit_between_users(cvu3, cvu1, 500, \"Transferencia\")\n",
    "# Mostrar saldo cvu3 después de la transferencia\n",
    "display(pg.execute(\"SELECT saldo FROM Usuarios WHERE clave_uniforme = %s\", (cvu3,)).fetchone()[0])\n",
    "\n",
    "rendimientos = pagar_rendimientos_usuario(cvu3)\n",
    "# Mostrar saldo cvu3 después de pagar los rendimientos\n",
    "display(pg.execute(\"SELECT saldo FROM Usuarios WHERE clave_uniforme = %s\", (cvu3,)).fetchone()[0])\n",
    "\n",
    "display(\n",
    "    Markdown(\n",
    "        \"## Rendimientos pagados\"\n",
    "        + \"\\n\".join(\n",
    "            [\n",
    "                f\"\"\"\n",
    "- ID: {r[0]}\n",
    "- Fecha de pago: {r[1]}\n",
    "- Comienzo del plazo: {r[2]}\n",
    "- Fin del plazo: {r[3]}\n",
    "- TNA: {r[4]}\n",
    "- Monto Invertido: {r[5]}\n",
    "- Monto Pagado: {r[5] * (1 + rendimientos[0][4] / 100)}\n",
    "\"\"\"\n",
    "                for r in rendimientos\n",
    "            ]\n",
    "        )\n",
    "    )\n",
    ")"
   ]
  },
  {
   "cell_type": "code",
   "execution_count": 168,
   "metadata": {},
   "outputs": [
    {
     "data": {
      "text/plain": [
       "[(2, datetime.date(2024, 5, 10), datetime.date(2024, 5, 10), datetime.date(2024, 5, 11), 71.73508287951043, 1000.0)]"
      ]
     },
     "execution_count": 168,
     "metadata": {},
     "output_type": "execute_result"
    }
   ],
   "source": [
    "# Obtener todos los registros de rendimientos de cvu3\n",
    "\n",
    "pg.execute(\n",
    "    \"\"\"SELECT Rendimiento.id, fecha_pago, comienzo_plazo, fin_plazo, TNA, monto\n",
    "    FROM RendimientoUsuario\n",
    "    JOIN Rendimiento ON RendimientoUsuario.id = Rendimiento.id\n",
    "    WHERE clave_uniforme = %s\"\"\",\n",
    "    (cvu3,),\n",
    ").fetchall()"
   ]
  },
  {
   "cell_type": "code",
   "execution_count": 164,
   "metadata": {},
   "outputs": [
    {
     "data": {
      "text/plain": [
       "('0770258812130048829932', '60-81255451-0', 'katie22@example.net', 'Peter', 'Cooke', 'gvelez', '*ZTXQaiU1I', 504.7050707638222, datetime.date(2012, 7, 24))"
      ]
     },
     "execution_count": 164,
     "metadata": {},
     "output_type": "execute_result"
    }
   ],
   "source": [
    "# Mostrar usuario cvu2\n",
    "\n",
    "pg.execute(\"SELECT * FROM Usuarios WHERE clave_uniforme = %s\", (cvu3,)).fetchone()"
   ]
  },
  {
   "cell_type": "code",
   "execution_count": null,
   "metadata": {},
   "outputs": [],
   "source": []
  }
 ],
 "metadata": {
  "kernelspec": {
   "display_name": "coding",
   "language": "python",
   "name": "python3"
  },
  "language_info": {
   "codemirror_mode": {
    "name": "ipython",
    "version": 3
   },
   "file_extension": ".py",
   "mimetype": "text/x-python",
   "name": "python",
   "nbconvert_exporter": "python",
   "pygments_lexer": "ipython3",
   "version": "3.8.12"
  }
 },
 "nbformat": 4,
 "nbformat_minor": 2
}
